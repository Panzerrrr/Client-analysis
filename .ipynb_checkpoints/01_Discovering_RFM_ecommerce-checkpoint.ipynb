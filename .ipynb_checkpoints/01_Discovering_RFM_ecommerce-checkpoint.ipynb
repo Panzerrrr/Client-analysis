{
 "cells": [
  {
   "cell_type": "markdown",
   "id": "comprehensive-warehouse",
   "metadata": {},
   "source": [
    "# Customer analysis"
   ]
  },
  {
   "cell_type": "markdown",
   "id": "working-earth",
   "metadata": {},
   "source": [
    "In this exercise, you work for a consulting firm as data analyst. One of your clients asked for help to understand its customer buying behavior. \n",
    "\n",
    "You dispose of a dataset from its e-commerce website with 13 features : \n",
    "\n",
    "- order_id : ID if the order\n",
    "- order_status : Status of the order\n",
    "- order_purchase_timestamp : Timestamp of the purchase\n",
    "- order_delivered_customer_date : Timestamp of the delivery to the customer\n",
    "- payment_type : Method of payment\n",
    "- payment_installments : Number of payments for this purchase (does NOT affect the payment value)\n",
    "- payment_value : Total amount of the payment\n",
    "- review_score : Score given by the client, ranges from 1 to 5\n",
    "- customer_unique_id : ID of the customer who purchased\n",
    "- customer_zip_code_prefix : Zip code of the customer\n",
    "- customer_city : City of the customer\n",
    "- customer_state : State of the customer\n",
    "- product_category_name_english : Name of the product category in English\n",
    "\n",
    "With this data, you have to analyze customer behavior with two techniques:\n",
    "\n",
    "- Customer segmentation with RFM\n",
    "- Cohort analysis from Sept 2016 to October 2018.\n",
    "\n",
    "At the end, you have to present your analysis with actionable insights to improve the customer relationship of your client. "
   ]
  },
  {
   "cell_type": "markdown",
   "id": "e34741c0",
   "metadata": {},
   "source": [
    "# Understanding RFM Segmentation "
   ]
  },
  {
   "cell_type": "markdown",
   "id": "fe5120cd",
   "metadata": {
    "ExecuteTime": {
     "end_time": "2021-09-30T14:30:02.324575Z",
     "start_time": "2021-09-30T14:30:02.319234Z"
    }
   },
   "source": [
    "❓ What are the 3 metrics used in an RFM Segmentation? (hint : What does RFM stand for?) "
   ]
  },
  {
   "cell_type": "markdown",
   "id": "9520908f",
   "metadata": {},
   "source": [
    "**RFM stands for Recency, Frequency, and Monetary value**"
   ]
  },
  {
   "cell_type": "markdown",
   "id": "f556245c",
   "metadata": {},
   "source": [
    "❓ Can you summarize what each metric measures in one sentence?"
   ]
  },
  {
   "cell_type": "markdown",
   "id": "88001d10",
   "metadata": {},
   "source": [
    "**Method of analyzing the quality of a customer according to three criteria :**  \n",
    "\n",
    "**Recency: date of the last purchase or time elapsed since.(The most the recent purchases the better score will be)   \n",
    "Frequency: average frequency of purchases over the period considered.(The more frequent purchase the better score will be)  \n",
    "Value: amount of purchases made by this customer over the period studied.(The more they spend the better score will be)**"
   ]
  },
  {
   "cell_type": "markdown",
   "id": "98be1bfe",
   "metadata": {},
   "source": [
    "❓ What data / or type of data do you need for each metric ? "
   ]
  },
  {
   "cell_type": "code",
   "execution_count": null,
   "id": "257cfa02",
   "metadata": {},
   "outputs": [],
   "source": []
  },
  {
   "cell_type": "markdown",
   "id": "40dc1822",
   "metadata": {},
   "source": [
    "Let's explore the dataset!"
   ]
  },
  {
   "cell_type": "markdown",
   "id": "digital-cycling",
   "metadata": {},
   "source": [
    "# Exploratory Data Analysis"
   ]
  },
  {
   "cell_type": "markdown",
   "id": "9fe4d6d2",
   "metadata": {},
   "source": [
    "Load the dataset and start an Exploratory Data Analysis"
   ]
  },
  {
   "cell_type": "code",
   "execution_count": 1,
   "id": "6bda6905",
   "metadata": {},
   "outputs": [],
   "source": [
    "import pandas as pd\n",
    "import numpy as np\n",
    "import datetime\n",
    "import time\n",
    "from sklearn.cluster import KMeans\n",
    "import matplotlib.pyplot as plt\n",
    "import seaborn as sns\n",
    "%matplotlib inline "
   ]
  },
  {
   "cell_type": "code",
   "execution_count": 2,
   "id": "1caf4ef5",
   "metadata": {
    "ExecuteTime": {
     "end_time": "2021-10-03T14:07:52.111600Z",
     "start_time": "2021-10-03T14:07:51.598182Z"
    }
   },
   "outputs": [
    {
     "data": {
      "text/html": [
       "<div>\n",
       "<style scoped>\n",
       "    .dataframe tbody tr th:only-of-type {\n",
       "        vertical-align: middle;\n",
       "    }\n",
       "\n",
       "    .dataframe tbody tr th {\n",
       "        vertical-align: top;\n",
       "    }\n",
       "\n",
       "    .dataframe thead th {\n",
       "        text-align: right;\n",
       "    }\n",
       "</style>\n",
       "<table border=\"1\" class=\"dataframe\">\n",
       "  <thead>\n",
       "    <tr style=\"text-align: right;\">\n",
       "      <th></th>\n",
       "      <th>Unnamed: 0</th>\n",
       "      <th>order_id</th>\n",
       "      <th>customer_id</th>\n",
       "      <th>order_status</th>\n",
       "      <th>order_purchase_timestamp</th>\n",
       "      <th>order_delivered_customer_date</th>\n",
       "      <th>payment_type</th>\n",
       "      <th>payment_installments</th>\n",
       "      <th>payment_value</th>\n",
       "      <th>review_score</th>\n",
       "      <th>customer_unique_id</th>\n",
       "      <th>customer_zip_code_prefix</th>\n",
       "      <th>customer_city</th>\n",
       "      <th>customer_state</th>\n",
       "      <th>product_category_name_english</th>\n",
       "    </tr>\n",
       "  </thead>\n",
       "  <tbody>\n",
       "    <tr>\n",
       "      <th>8</th>\n",
       "      <td>8</td>\n",
       "      <td>136cce7faa42fdb2cefd53fdc79a6098</td>\n",
       "      <td>ed0271e0b7da060a393796590e7b737a</td>\n",
       "      <td>invoiced</td>\n",
       "      <td>2017-04-11 12:22:08</td>\n",
       "      <td>NaN</td>\n",
       "      <td>credit_card</td>\n",
       "      <td>1.0</td>\n",
       "      <td>65.95</td>\n",
       "      <td>2</td>\n",
       "      <td>36edbb3fb164b1f16485364b6fb04c73</td>\n",
       "      <td>98900</td>\n",
       "      <td>santa rosa</td>\n",
       "      <td>RS</td>\n",
       "      <td>NaN</td>\n",
       "    </tr>\n",
       "    <tr>\n",
       "      <th>49</th>\n",
       "      <td>49</td>\n",
       "      <td>ee64d42b8cf066f35eac1cf57de1aa85</td>\n",
       "      <td>caded193e8e47b8362864762a83db3c5</td>\n",
       "      <td>shipped</td>\n",
       "      <td>2018-06-04 16:44:48</td>\n",
       "      <td>NaN</td>\n",
       "      <td>boleto</td>\n",
       "      <td>1.0</td>\n",
       "      <td>22.36</td>\n",
       "      <td>1</td>\n",
       "      <td>08fb46d35bb3ab4037202c23592d1259</td>\n",
       "      <td>13215</td>\n",
       "      <td>jundiai</td>\n",
       "      <td>SP</td>\n",
       "      <td>health_beauty</td>\n",
       "    </tr>\n",
       "    <tr>\n",
       "      <th>111</th>\n",
       "      <td>111</td>\n",
       "      <td>0760a852e4e9d89eb77bf631eaaf1c84</td>\n",
       "      <td>d2a79636084590b7465af8ab374a8cf5</td>\n",
       "      <td>invoiced</td>\n",
       "      <td>2018-08-03 17:44:42</td>\n",
       "      <td>NaN</td>\n",
       "      <td>boleto</td>\n",
       "      <td>1.0</td>\n",
       "      <td>50.35</td>\n",
       "      <td>3</td>\n",
       "      <td>c7f8d7b1fffc946d7069574f74c39f4e</td>\n",
       "      <td>88140</td>\n",
       "      <td>santo amaro da imperatriz</td>\n",
       "      <td>SC</td>\n",
       "      <td>christmas_supplies</td>\n",
       "    </tr>\n",
       "    <tr>\n",
       "      <th>115</th>\n",
       "      <td>115</td>\n",
       "      <td>bfe42c22ecbf90bc9f35cf591270b6a7</td>\n",
       "      <td>803ac05904124294f8767894d6da532b</td>\n",
       "      <td>delivered</td>\n",
       "      <td>2018-01-27 22:04:34</td>\n",
       "      <td>2018-02-09 20:16:40</td>\n",
       "      <td>credit_card</td>\n",
       "      <td>1.0</td>\n",
       "      <td>42.40</td>\n",
       "      <td>5</td>\n",
       "      <td>34c58672601f2c6d29db7efd1f6bf958</td>\n",
       "      <td>38650</td>\n",
       "      <td>bonfinopolis de minas</td>\n",
       "      <td>MG</td>\n",
       "      <td>NaN</td>\n",
       "    </tr>\n",
       "    <tr>\n",
       "      <th>137</th>\n",
       "      <td>137</td>\n",
       "      <td>15bed8e2fec7fdbadb186b57c46c92f2</td>\n",
       "      <td>f3f0e613e0bdb9c7cee75504f0f90679</td>\n",
       "      <td>processing</td>\n",
       "      <td>2017-09-03 14:22:03</td>\n",
       "      <td>NaN</td>\n",
       "      <td>credit_card</td>\n",
       "      <td>2.0</td>\n",
       "      <td>138.28</td>\n",
       "      <td>5</td>\n",
       "      <td>9f269af9c49244f6ba4a46985a3cfc2e</td>\n",
       "      <td>3436</td>\n",
       "      <td>sao paulo</td>\n",
       "      <td>SP</td>\n",
       "      <td>perfumery</td>\n",
       "    </tr>\n",
       "    <tr>\n",
       "      <th>...</th>\n",
       "      <td>...</td>\n",
       "      <td>...</td>\n",
       "      <td>...</td>\n",
       "      <td>...</td>\n",
       "      <td>...</td>\n",
       "      <td>...</td>\n",
       "      <td>...</td>\n",
       "      <td>...</td>\n",
       "      <td>...</td>\n",
       "      <td>...</td>\n",
       "      <td>...</td>\n",
       "      <td>...</td>\n",
       "      <td>...</td>\n",
       "      <td>...</td>\n",
       "      <td>...</td>\n",
       "    </tr>\n",
       "    <tr>\n",
       "      <th>105219</th>\n",
       "      <td>105219</td>\n",
       "      <td>3a3cddda5a7c27851bd96c3313412840</td>\n",
       "      <td>0b0d6095c5555fe083844281f6b093bb</td>\n",
       "      <td>canceled</td>\n",
       "      <td>2018-08-31 16:13:44</td>\n",
       "      <td>NaN</td>\n",
       "      <td>voucher</td>\n",
       "      <td>1.0</td>\n",
       "      <td>63.89</td>\n",
       "      <td>5</td>\n",
       "      <td>e90598185d2427a35e32ef241a5c04aa</td>\n",
       "      <td>11075</td>\n",
       "      <td>santos</td>\n",
       "      <td>SP</td>\n",
       "      <td>NaN</td>\n",
       "    </tr>\n",
       "    <tr>\n",
       "      <th>105250</th>\n",
       "      <td>105250</td>\n",
       "      <td>e9e64a17afa9653aacf2616d94c005b8</td>\n",
       "      <td>b4cd0522e632e481f8eaf766a2646e86</td>\n",
       "      <td>processing</td>\n",
       "      <td>2018-01-05 23:07:24</td>\n",
       "      <td>NaN</td>\n",
       "      <td>boleto</td>\n",
       "      <td>1.0</td>\n",
       "      <td>144.56</td>\n",
       "      <td>1</td>\n",
       "      <td>965191786b70912f793e4a777fd623cd</td>\n",
       "      <td>13050</td>\n",
       "      <td>campinas</td>\n",
       "      <td>SP</td>\n",
       "      <td>watches_gifts</td>\n",
       "    </tr>\n",
       "    <tr>\n",
       "      <th>105287</th>\n",
       "      <td>105287</td>\n",
       "      <td>a89abace0dcc01eeb267a9660b5ac126</td>\n",
       "      <td>2f0524a7b1b3845a1a57fcf3910c4333</td>\n",
       "      <td>canceled</td>\n",
       "      <td>2018-09-06 18:45:47</td>\n",
       "      <td>NaN</td>\n",
       "      <td>voucher</td>\n",
       "      <td>1.0</td>\n",
       "      <td>107.13</td>\n",
       "      <td>4</td>\n",
       "      <td>d05c44a138277ad325d915c6b7ccbcdf</td>\n",
       "      <td>5344</td>\n",
       "      <td>sao paulo</td>\n",
       "      <td>SP</td>\n",
       "      <td>NaN</td>\n",
       "    </tr>\n",
       "    <tr>\n",
       "      <th>105288</th>\n",
       "      <td>105288</td>\n",
       "      <td>a69ba794cc7deb415c3e15a0a3877e69</td>\n",
       "      <td>726f0894b5becdf952ea537d5266e543</td>\n",
       "      <td>unavailable</td>\n",
       "      <td>2017-08-23 16:28:04</td>\n",
       "      <td>NaN</td>\n",
       "      <td>credit_card</td>\n",
       "      <td>2.0</td>\n",
       "      <td>195.91</td>\n",
       "      <td>1</td>\n",
       "      <td>e72a90a2b29fe1a8795b284aaaa3246f</td>\n",
       "      <td>22723</td>\n",
       "      <td>rio de janeiro</td>\n",
       "      <td>RJ</td>\n",
       "      <td>NaN</td>\n",
       "    </tr>\n",
       "    <tr>\n",
       "      <th>105355</th>\n",
       "      <td>105355</td>\n",
       "      <td>5fabc81b6322c8443648e1b21a6fef21</td>\n",
       "      <td>32c9df889d41b0ee8309a5efb6855dcb</td>\n",
       "      <td>unavailable</td>\n",
       "      <td>2017-10-10 10:50:03</td>\n",
       "      <td>NaN</td>\n",
       "      <td>boleto</td>\n",
       "      <td>1.0</td>\n",
       "      <td>133.97</td>\n",
       "      <td>1</td>\n",
       "      <td>393d95c05b04db26ac084374094b3a52</td>\n",
       "      <td>18040</td>\n",
       "      <td>sorocaba</td>\n",
       "      <td>SP</td>\n",
       "      <td>NaN</td>\n",
       "    </tr>\n",
       "  </tbody>\n",
       "</table>\n",
       "<p>4671 rows × 15 columns</p>\n",
       "</div>"
      ],
      "text/plain": [
       "        Unnamed: 0                          order_id  \\\n",
       "8                8  136cce7faa42fdb2cefd53fdc79a6098   \n",
       "49              49  ee64d42b8cf066f35eac1cf57de1aa85   \n",
       "111            111  0760a852e4e9d89eb77bf631eaaf1c84   \n",
       "115            115  bfe42c22ecbf90bc9f35cf591270b6a7   \n",
       "137            137  15bed8e2fec7fdbadb186b57c46c92f2   \n",
       "...            ...                               ...   \n",
       "105219      105219  3a3cddda5a7c27851bd96c3313412840   \n",
       "105250      105250  e9e64a17afa9653aacf2616d94c005b8   \n",
       "105287      105287  a89abace0dcc01eeb267a9660b5ac126   \n",
       "105288      105288  a69ba794cc7deb415c3e15a0a3877e69   \n",
       "105355      105355  5fabc81b6322c8443648e1b21a6fef21   \n",
       "\n",
       "                             customer_id order_status  \\\n",
       "8       ed0271e0b7da060a393796590e7b737a     invoiced   \n",
       "49      caded193e8e47b8362864762a83db3c5      shipped   \n",
       "111     d2a79636084590b7465af8ab374a8cf5     invoiced   \n",
       "115     803ac05904124294f8767894d6da532b    delivered   \n",
       "137     f3f0e613e0bdb9c7cee75504f0f90679   processing   \n",
       "...                                  ...          ...   \n",
       "105219  0b0d6095c5555fe083844281f6b093bb     canceled   \n",
       "105250  b4cd0522e632e481f8eaf766a2646e86   processing   \n",
       "105287  2f0524a7b1b3845a1a57fcf3910c4333     canceled   \n",
       "105288  726f0894b5becdf952ea537d5266e543  unavailable   \n",
       "105355  32c9df889d41b0ee8309a5efb6855dcb  unavailable   \n",
       "\n",
       "       order_purchase_timestamp order_delivered_customer_date payment_type  \\\n",
       "8           2017-04-11 12:22:08                           NaN  credit_card   \n",
       "49          2018-06-04 16:44:48                           NaN       boleto   \n",
       "111         2018-08-03 17:44:42                           NaN       boleto   \n",
       "115         2018-01-27 22:04:34           2018-02-09 20:16:40  credit_card   \n",
       "137         2017-09-03 14:22:03                           NaN  credit_card   \n",
       "...                         ...                           ...          ...   \n",
       "105219      2018-08-31 16:13:44                           NaN      voucher   \n",
       "105250      2018-01-05 23:07:24                           NaN       boleto   \n",
       "105287      2018-09-06 18:45:47                           NaN      voucher   \n",
       "105288      2017-08-23 16:28:04                           NaN  credit_card   \n",
       "105355      2017-10-10 10:50:03                           NaN       boleto   \n",
       "\n",
       "        payment_installments  payment_value  review_score  \\\n",
       "8                        1.0          65.95             2   \n",
       "49                       1.0          22.36             1   \n",
       "111                      1.0          50.35             3   \n",
       "115                      1.0          42.40             5   \n",
       "137                      2.0         138.28             5   \n",
       "...                      ...            ...           ...   \n",
       "105219                   1.0          63.89             5   \n",
       "105250                   1.0         144.56             1   \n",
       "105287                   1.0         107.13             4   \n",
       "105288                   2.0         195.91             1   \n",
       "105355                   1.0         133.97             1   \n",
       "\n",
       "                      customer_unique_id  customer_zip_code_prefix  \\\n",
       "8       36edbb3fb164b1f16485364b6fb04c73                     98900   \n",
       "49      08fb46d35bb3ab4037202c23592d1259                     13215   \n",
       "111     c7f8d7b1fffc946d7069574f74c39f4e                     88140   \n",
       "115     34c58672601f2c6d29db7efd1f6bf958                     38650   \n",
       "137     9f269af9c49244f6ba4a46985a3cfc2e                      3436   \n",
       "...                                  ...                       ...   \n",
       "105219  e90598185d2427a35e32ef241a5c04aa                     11075   \n",
       "105250  965191786b70912f793e4a777fd623cd                     13050   \n",
       "105287  d05c44a138277ad325d915c6b7ccbcdf                      5344   \n",
       "105288  e72a90a2b29fe1a8795b284aaaa3246f                     22723   \n",
       "105355  393d95c05b04db26ac084374094b3a52                     18040   \n",
       "\n",
       "                    customer_city customer_state product_category_name_english  \n",
       "8                      santa rosa             RS                           NaN  \n",
       "49                        jundiai             SP                 health_beauty  \n",
       "111     santo amaro da imperatriz             SC            christmas_supplies  \n",
       "115         bonfinopolis de minas             MG                           NaN  \n",
       "137                     sao paulo             SP                     perfumery  \n",
       "...                           ...            ...                           ...  \n",
       "105219                     santos             SP                           NaN  \n",
       "105250                   campinas             SP                 watches_gifts  \n",
       "105287                  sao paulo             SP                           NaN  \n",
       "105288             rio de janeiro             RJ                           NaN  \n",
       "105355                   sorocaba             SP                           NaN  \n",
       "\n",
       "[4671 rows x 15 columns]"
      ]
     },
     "execution_count": 2,
     "metadata": {},
     "output_type": "execute_result"
    }
   ],
   "source": [
    "df = pd.read_csv('../projets_clients_analysis/db_customers.csv')\n",
    "df.duplicated().value_counts()\n",
    "df.isnull().value_counts().count()\n",
    "null_data = df[df.isnull().any(axis=1)]\n",
    "null_data"
   ]
  },
  {
   "cell_type": "markdown",
   "id": "7a1219f8",
   "metadata": {},
   "source": [
    "❓ Which features should be formated in datetime ? \n",
    "Convert them"
   ]
  },
  {
   "cell_type": "code",
   "execution_count": 3,
   "id": "57a528fd",
   "metadata": {
    "ExecuteTime": {
     "end_time": "2021-10-03T14:07:52.225702Z",
     "start_time": "2021-10-03T14:07:52.135148Z"
    }
   },
   "outputs": [
    {
     "data": {
      "text/plain": [
       "0        2017-10-02 10:56:33\n",
       "1        2017-10-02 10:56:33\n",
       "2        2017-10-02 10:56:33\n",
       "3        2018-07-24 20:41:37\n",
       "4        2018-08-08 08:38:49\n",
       "                 ...        \n",
       "105378   2017-03-09 09:54:05\n",
       "105379   2018-02-06 12:58:58\n",
       "105380   2017-08-27 14:46:43\n",
       "105381   2018-01-08 21:28:27\n",
       "105382   2018-03-08 20:57:30\n",
       "Name: order_delivered_customer_date, Length: 105383, dtype: datetime64[ns]"
      ]
     },
     "execution_count": 3,
     "metadata": {},
     "output_type": "execute_result"
    }
   ],
   "source": [
    "from datetime import datetime\n",
    "df['order_purchase_timestamp'] = df['order_purchase_timestamp'].apply(pd.to_datetime)\n",
    "df['order_purchase_timestamp']\n",
    "df['order_delivered_customer_date'] = df['order_purchase_timestamp'].apply(pd.to_datetime)\n",
    "df['order_delivered_customer_date']"
   ]
  },
  {
   "cell_type": "markdown",
   "id": "b51c5e36",
   "metadata": {},
   "source": [
    "❓ Which features are Categorical ? List the unique values on these features."
   ]
  },
  {
   "cell_type": "code",
   "execution_count": 4,
   "id": "4f134505",
   "metadata": {},
   "outputs": [
    {
     "name": "stdout",
     "output_type": "stream",
     "text": [
      "Unique order_status: ['delivered' 'invoiced' 'shipped' 'processing' 'unavailable' 'canceled'\n",
      " 'created' 'approved']\n",
      "Unique payment_type: ['credit_card' 'voucher' 'boleto' 'debit_card' 'not_defined' nan]\n",
      "Unique v: [4 5 2 1 3]\n",
      "Unique customer_city: ['sao paulo' 'barreiras' 'vianopolis' ... 'messias targino'\n",
      " 'campo do tenente' 'nova vicosa']\n",
      "Unique customer_state: ['SP' 'BA' 'GO' 'RN' 'PR' 'RS' 'RJ' 'MG' 'SC' 'RR' 'PE' 'TO' 'CE' 'DF'\n",
      " 'SE' 'MT' 'PB' 'PA' 'RO' 'ES' 'AP' 'MS' 'MA' 'PI' 'AL' 'AC' 'AM']\n",
      "Unique product_category_name_english: ['housewares' 'perfumery' 'auto' 'pet_shop' 'stationery' nan\n",
      " 'furniture_decor' 'office_furniture' 'garden_tools'\n",
      " 'computers_accessories' 'bed_bath_table' 'toys'\n",
      " 'construction_tools_construction' 'telephony' 'health_beauty'\n",
      " 'electronics' 'baby' 'cool_stuff' 'watches_gifts' 'air_conditioning'\n",
      " 'sports_leisure' 'books_general_interest' 'small_appliances' 'food'\n",
      " 'luggage_accessories' 'fashion_underwear_beach' 'christmas_supplies'\n",
      " 'fashion_bags_accessories' 'musical_instruments'\n",
      " 'construction_tools_lights' 'books_technical' 'costruction_tools_garden'\n",
      " 'home_appliances' 'market_place' 'agro_industry_and_commerce'\n",
      " 'party_supplies' 'home_confort' 'cds_dvds_musicals'\n",
      " 'industry_commerce_and_business' 'consoles_games' 'furniture_bedroom'\n",
      " 'construction_tools_safety' 'fixed_telephony' 'drinks'\n",
      " 'kitchen_dining_laundry_garden_furniture' 'fashion_shoes'\n",
      " 'home_construction' 'audio' 'home_appliances_2' 'fashion_male_clothing'\n",
      " 'cine_photo' 'furniture_living_room' 'art' 'food_drink'\n",
      " 'tablets_printing_image' 'fashion_sport' 'la_cuisine' 'flowers'\n",
      " 'computers' 'home_comfort_2' 'small_appliances_home_oven_and_coffee'\n",
      " 'dvds_blu_ray' 'costruction_tools_tools' 'fashio_female_clothing'\n",
      " 'furniture_mattress_and_upholstery' 'signaling_and_security'\n",
      " 'diapers_and_hygiene' 'books_imported' 'fashion_childrens_clothes'\n",
      " 'music' 'arts_and_craftmanship' 'security_and_services']\n"
     ]
    }
   ],
   "source": [
    "print(f\"Unique order_status: {df['order_status'].unique()}\")\n",
    "print(f\"Unique payment_type: {df['payment_type'].unique()}\")\n",
    "print(f\"Unique v: {df['review_score'].unique()}\")\n",
    "print(f\"Unique customer_city: {df['customer_city'].unique()}\")\n",
    "print(f\"Unique customer_state: {df['customer_state'].unique()}\")\n",
    "print(f\"Unique product_category_name_english: {df['product_category_name_english'].unique()}\")\n"
   ]
  },
  {
   "cell_type": "markdown",
   "id": "ea7199d9",
   "metadata": {},
   "source": [
    "❓ Check for missing values. What do you notice ? \n"
   ]
  },
  {
   "cell_type": "code",
   "execution_count": 5,
   "id": "19eef9bd",
   "metadata": {},
   "outputs": [
    {
     "data": {
      "text/html": [
       "<div>\n",
       "<style scoped>\n",
       "    .dataframe tbody tr th:only-of-type {\n",
       "        vertical-align: middle;\n",
       "    }\n",
       "\n",
       "    .dataframe tbody tr th {\n",
       "        vertical-align: top;\n",
       "    }\n",
       "\n",
       "    .dataframe thead th {\n",
       "        text-align: right;\n",
       "    }\n",
       "</style>\n",
       "<table border=\"1\" class=\"dataframe\">\n",
       "  <thead>\n",
       "    <tr style=\"text-align: right;\">\n",
       "      <th></th>\n",
       "      <th>Unnamed: 0</th>\n",
       "      <th>order_id</th>\n",
       "      <th>customer_id</th>\n",
       "      <th>order_status</th>\n",
       "      <th>order_purchase_timestamp</th>\n",
       "      <th>order_delivered_customer_date</th>\n",
       "      <th>payment_type</th>\n",
       "      <th>payment_installments</th>\n",
       "      <th>payment_value</th>\n",
       "      <th>review_score</th>\n",
       "      <th>customer_unique_id</th>\n",
       "      <th>customer_zip_code_prefix</th>\n",
       "      <th>customer_city</th>\n",
       "      <th>customer_state</th>\n",
       "      <th>product_category_name_english</th>\n",
       "    </tr>\n",
       "  </thead>\n",
       "  <tbody>\n",
       "    <tr>\n",
       "      <th>8</th>\n",
       "      <td>8</td>\n",
       "      <td>136cce7faa42fdb2cefd53fdc79a6098</td>\n",
       "      <td>ed0271e0b7da060a393796590e7b737a</td>\n",
       "      <td>invoiced</td>\n",
       "      <td>2017-04-11 12:22:08</td>\n",
       "      <td>2017-04-11 12:22:08</td>\n",
       "      <td>credit_card</td>\n",
       "      <td>1.0</td>\n",
       "      <td>65.95</td>\n",
       "      <td>2</td>\n",
       "      <td>36edbb3fb164b1f16485364b6fb04c73</td>\n",
       "      <td>98900</td>\n",
       "      <td>santa rosa</td>\n",
       "      <td>RS</td>\n",
       "      <td>NaN</td>\n",
       "    </tr>\n",
       "    <tr>\n",
       "      <th>115</th>\n",
       "      <td>115</td>\n",
       "      <td>bfe42c22ecbf90bc9f35cf591270b6a7</td>\n",
       "      <td>803ac05904124294f8767894d6da532b</td>\n",
       "      <td>delivered</td>\n",
       "      <td>2018-01-27 22:04:34</td>\n",
       "      <td>2018-01-27 22:04:34</td>\n",
       "      <td>credit_card</td>\n",
       "      <td>1.0</td>\n",
       "      <td>42.40</td>\n",
       "      <td>5</td>\n",
       "      <td>34c58672601f2c6d29db7efd1f6bf958</td>\n",
       "      <td>38650</td>\n",
       "      <td>bonfinopolis de minas</td>\n",
       "      <td>MG</td>\n",
       "      <td>NaN</td>\n",
       "    </tr>\n",
       "    <tr>\n",
       "      <th>193</th>\n",
       "      <td>193</td>\n",
       "      <td>58ac1947c1a9067b9f416cba6d844a3f</td>\n",
       "      <td>ee8e1d37f563ecc11cc4dcb4dfd794c2</td>\n",
       "      <td>delivered</td>\n",
       "      <td>2017-09-13 09:18:50</td>\n",
       "      <td>2017-09-13 09:18:50</td>\n",
       "      <td>credit_card</td>\n",
       "      <td>5.0</td>\n",
       "      <td>124.16</td>\n",
       "      <td>5</td>\n",
       "      <td>5cbf29b2dcf212a6a5d864b887238c72</td>\n",
       "      <td>4842</td>\n",
       "      <td>sao paulo</td>\n",
       "      <td>SP</td>\n",
       "      <td>NaN</td>\n",
       "    </tr>\n",
       "    <tr>\n",
       "      <th>243</th>\n",
       "      <td>243</td>\n",
       "      <td>e22b71f6e4a481445ec4527cb4c405f7</td>\n",
       "      <td>1faf89c8f142db3fca6cf314c51a37b6</td>\n",
       "      <td>delivered</td>\n",
       "      <td>2017-04-22 13:48:18</td>\n",
       "      <td>2017-04-22 13:48:18</td>\n",
       "      <td>credit_card</td>\n",
       "      <td>3.0</td>\n",
       "      <td>34.24</td>\n",
       "      <td>4</td>\n",
       "      <td>1268b060098ed3f22c2e7c34cc72a1a8</td>\n",
       "      <td>38240</td>\n",
       "      <td>itapagipe</td>\n",
       "      <td>MG</td>\n",
       "      <td>NaN</td>\n",
       "    </tr>\n",
       "    <tr>\n",
       "      <th>281</th>\n",
       "      <td>281</td>\n",
       "      <td>a094215e786240fcfefb83d18036a1cd</td>\n",
       "      <td>86acfb656743da0c113d176832c9d535</td>\n",
       "      <td>delivered</td>\n",
       "      <td>2018-02-08 18:56:45</td>\n",
       "      <td>2018-02-08 18:56:45</td>\n",
       "      <td>credit_card</td>\n",
       "      <td>1.0</td>\n",
       "      <td>132.05</td>\n",
       "      <td>5</td>\n",
       "      <td>f5cb81f98962f7504bef1e75579b6dff</td>\n",
       "      <td>13474</td>\n",
       "      <td>americana</td>\n",
       "      <td>SP</td>\n",
       "      <td>NaN</td>\n",
       "    </tr>\n",
       "    <tr>\n",
       "      <th>...</th>\n",
       "      <td>...</td>\n",
       "      <td>...</td>\n",
       "      <td>...</td>\n",
       "      <td>...</td>\n",
       "      <td>...</td>\n",
       "      <td>...</td>\n",
       "      <td>...</td>\n",
       "      <td>...</td>\n",
       "      <td>...</td>\n",
       "      <td>...</td>\n",
       "      <td>...</td>\n",
       "      <td>...</td>\n",
       "      <td>...</td>\n",
       "      <td>...</td>\n",
       "      <td>...</td>\n",
       "    </tr>\n",
       "    <tr>\n",
       "      <th>105188</th>\n",
       "      <td>105188</td>\n",
       "      <td>aaab15da689073f8f9aa978a390a69d1</td>\n",
       "      <td>df20748206e4b865b2f14a5eabbfcf34</td>\n",
       "      <td>unavailable</td>\n",
       "      <td>2018-01-16 14:27:59</td>\n",
       "      <td>2018-01-16 14:27:59</td>\n",
       "      <td>boleto</td>\n",
       "      <td>1.0</td>\n",
       "      <td>210.09</td>\n",
       "      <td>1</td>\n",
       "      <td>a33e0969408919ba06779f497ead93ec</td>\n",
       "      <td>7025</td>\n",
       "      <td>guarulhos</td>\n",
       "      <td>SP</td>\n",
       "      <td>NaN</td>\n",
       "    </tr>\n",
       "    <tr>\n",
       "      <th>105219</th>\n",
       "      <td>105219</td>\n",
       "      <td>3a3cddda5a7c27851bd96c3313412840</td>\n",
       "      <td>0b0d6095c5555fe083844281f6b093bb</td>\n",
       "      <td>canceled</td>\n",
       "      <td>2018-08-31 16:13:44</td>\n",
       "      <td>2018-08-31 16:13:44</td>\n",
       "      <td>voucher</td>\n",
       "      <td>1.0</td>\n",
       "      <td>63.89</td>\n",
       "      <td>5</td>\n",
       "      <td>e90598185d2427a35e32ef241a5c04aa</td>\n",
       "      <td>11075</td>\n",
       "      <td>santos</td>\n",
       "      <td>SP</td>\n",
       "      <td>NaN</td>\n",
       "    </tr>\n",
       "    <tr>\n",
       "      <th>105287</th>\n",
       "      <td>105287</td>\n",
       "      <td>a89abace0dcc01eeb267a9660b5ac126</td>\n",
       "      <td>2f0524a7b1b3845a1a57fcf3910c4333</td>\n",
       "      <td>canceled</td>\n",
       "      <td>2018-09-06 18:45:47</td>\n",
       "      <td>2018-09-06 18:45:47</td>\n",
       "      <td>voucher</td>\n",
       "      <td>1.0</td>\n",
       "      <td>107.13</td>\n",
       "      <td>4</td>\n",
       "      <td>d05c44a138277ad325d915c6b7ccbcdf</td>\n",
       "      <td>5344</td>\n",
       "      <td>sao paulo</td>\n",
       "      <td>SP</td>\n",
       "      <td>NaN</td>\n",
       "    </tr>\n",
       "    <tr>\n",
       "      <th>105288</th>\n",
       "      <td>105288</td>\n",
       "      <td>a69ba794cc7deb415c3e15a0a3877e69</td>\n",
       "      <td>726f0894b5becdf952ea537d5266e543</td>\n",
       "      <td>unavailable</td>\n",
       "      <td>2017-08-23 16:28:04</td>\n",
       "      <td>2017-08-23 16:28:04</td>\n",
       "      <td>credit_card</td>\n",
       "      <td>2.0</td>\n",
       "      <td>195.91</td>\n",
       "      <td>1</td>\n",
       "      <td>e72a90a2b29fe1a8795b284aaaa3246f</td>\n",
       "      <td>22723</td>\n",
       "      <td>rio de janeiro</td>\n",
       "      <td>RJ</td>\n",
       "      <td>NaN</td>\n",
       "    </tr>\n",
       "    <tr>\n",
       "      <th>105355</th>\n",
       "      <td>105355</td>\n",
       "      <td>5fabc81b6322c8443648e1b21a6fef21</td>\n",
       "      <td>32c9df889d41b0ee8309a5efb6855dcb</td>\n",
       "      <td>unavailable</td>\n",
       "      <td>2017-10-10 10:50:03</td>\n",
       "      <td>2017-10-10 10:50:03</td>\n",
       "      <td>boleto</td>\n",
       "      <td>1.0</td>\n",
       "      <td>133.97</td>\n",
       "      <td>1</td>\n",
       "      <td>393d95c05b04db26ac084374094b3a52</td>\n",
       "      <td>18040</td>\n",
       "      <td>sorocaba</td>\n",
       "      <td>SP</td>\n",
       "      <td>NaN</td>\n",
       "    </tr>\n",
       "  </tbody>\n",
       "</table>\n",
       "<p>2411 rows × 15 columns</p>\n",
       "</div>"
      ],
      "text/plain": [
       "        Unnamed: 0                          order_id  \\\n",
       "8                8  136cce7faa42fdb2cefd53fdc79a6098   \n",
       "115            115  bfe42c22ecbf90bc9f35cf591270b6a7   \n",
       "193            193  58ac1947c1a9067b9f416cba6d844a3f   \n",
       "243            243  e22b71f6e4a481445ec4527cb4c405f7   \n",
       "281            281  a094215e786240fcfefb83d18036a1cd   \n",
       "...            ...                               ...   \n",
       "105188      105188  aaab15da689073f8f9aa978a390a69d1   \n",
       "105219      105219  3a3cddda5a7c27851bd96c3313412840   \n",
       "105287      105287  a89abace0dcc01eeb267a9660b5ac126   \n",
       "105288      105288  a69ba794cc7deb415c3e15a0a3877e69   \n",
       "105355      105355  5fabc81b6322c8443648e1b21a6fef21   \n",
       "\n",
       "                             customer_id order_status  \\\n",
       "8       ed0271e0b7da060a393796590e7b737a     invoiced   \n",
       "115     803ac05904124294f8767894d6da532b    delivered   \n",
       "193     ee8e1d37f563ecc11cc4dcb4dfd794c2    delivered   \n",
       "243     1faf89c8f142db3fca6cf314c51a37b6    delivered   \n",
       "281     86acfb656743da0c113d176832c9d535    delivered   \n",
       "...                                  ...          ...   \n",
       "105188  df20748206e4b865b2f14a5eabbfcf34  unavailable   \n",
       "105219  0b0d6095c5555fe083844281f6b093bb     canceled   \n",
       "105287  2f0524a7b1b3845a1a57fcf3910c4333     canceled   \n",
       "105288  726f0894b5becdf952ea537d5266e543  unavailable   \n",
       "105355  32c9df889d41b0ee8309a5efb6855dcb  unavailable   \n",
       "\n",
       "       order_purchase_timestamp order_delivered_customer_date payment_type  \\\n",
       "8           2017-04-11 12:22:08           2017-04-11 12:22:08  credit_card   \n",
       "115         2018-01-27 22:04:34           2018-01-27 22:04:34  credit_card   \n",
       "193         2017-09-13 09:18:50           2017-09-13 09:18:50  credit_card   \n",
       "243         2017-04-22 13:48:18           2017-04-22 13:48:18  credit_card   \n",
       "281         2018-02-08 18:56:45           2018-02-08 18:56:45  credit_card   \n",
       "...                         ...                           ...          ...   \n",
       "105188      2018-01-16 14:27:59           2018-01-16 14:27:59       boleto   \n",
       "105219      2018-08-31 16:13:44           2018-08-31 16:13:44      voucher   \n",
       "105287      2018-09-06 18:45:47           2018-09-06 18:45:47      voucher   \n",
       "105288      2017-08-23 16:28:04           2017-08-23 16:28:04  credit_card   \n",
       "105355      2017-10-10 10:50:03           2017-10-10 10:50:03       boleto   \n",
       "\n",
       "        payment_installments  payment_value  review_score  \\\n",
       "8                        1.0          65.95             2   \n",
       "115                      1.0          42.40             5   \n",
       "193                      5.0         124.16             5   \n",
       "243                      3.0          34.24             4   \n",
       "281                      1.0         132.05             5   \n",
       "...                      ...            ...           ...   \n",
       "105188                   1.0         210.09             1   \n",
       "105219                   1.0          63.89             5   \n",
       "105287                   1.0         107.13             4   \n",
       "105288                   2.0         195.91             1   \n",
       "105355                   1.0         133.97             1   \n",
       "\n",
       "                      customer_unique_id  customer_zip_code_prefix  \\\n",
       "8       36edbb3fb164b1f16485364b6fb04c73                     98900   \n",
       "115     34c58672601f2c6d29db7efd1f6bf958                     38650   \n",
       "193     5cbf29b2dcf212a6a5d864b887238c72                      4842   \n",
       "243     1268b060098ed3f22c2e7c34cc72a1a8                     38240   \n",
       "281     f5cb81f98962f7504bef1e75579b6dff                     13474   \n",
       "...                                  ...                       ...   \n",
       "105188  a33e0969408919ba06779f497ead93ec                      7025   \n",
       "105219  e90598185d2427a35e32ef241a5c04aa                     11075   \n",
       "105287  d05c44a138277ad325d915c6b7ccbcdf                      5344   \n",
       "105288  e72a90a2b29fe1a8795b284aaaa3246f                     22723   \n",
       "105355  393d95c05b04db26ac084374094b3a52                     18040   \n",
       "\n",
       "                customer_city customer_state product_category_name_english  \n",
       "8                  santa rosa             RS                           NaN  \n",
       "115     bonfinopolis de minas             MG                           NaN  \n",
       "193                 sao paulo             SP                           NaN  \n",
       "243                 itapagipe             MG                           NaN  \n",
       "281                 americana             SP                           NaN  \n",
       "...                       ...            ...                           ...  \n",
       "105188              guarulhos             SP                           NaN  \n",
       "105219                 santos             SP                           NaN  \n",
       "105287              sao paulo             SP                           NaN  \n",
       "105288         rio de janeiro             RJ                           NaN  \n",
       "105355               sorocaba             SP                           NaN  \n",
       "\n",
       "[2411 rows x 15 columns]"
      ]
     },
     "execution_count": 5,
     "metadata": {},
     "output_type": "execute_result"
    }
   ],
   "source": [
    "null_data = df[df.isnull().any(axis=1)]\n",
    "null_data"
   ]
  },
  {
   "cell_type": "code",
   "execution_count": 6,
   "id": "5c9543e8",
   "metadata": {},
   "outputs": [
    {
     "name": "stdout",
     "output_type": "stream",
     "text": [
      "False    102973\n",
      "True       2410\n",
      "Name: product_category_name_english, dtype: int64\n",
      "False    105383\n",
      "Name: order_delivered_customer_date, dtype: int64\n",
      "<class 'pandas.core.frame.DataFrame'>\n",
      "RangeIndex: 105383 entries, 0 to 105382\n",
      "Data columns (total 15 columns):\n",
      " #   Column                         Non-Null Count   Dtype         \n",
      "---  ------                         --------------   -----         \n",
      " 0   Unnamed: 0                     105383 non-null  int64         \n",
      " 1   order_id                       105383 non-null  object        \n",
      " 2   customer_id                    105383 non-null  object        \n",
      " 3   order_status                   105383 non-null  object        \n",
      " 4   order_purchase_timestamp       105383 non-null  datetime64[ns]\n",
      " 5   order_delivered_customer_date  105383 non-null  datetime64[ns]\n",
      " 6   payment_type                   105382 non-null  object        \n",
      " 7   payment_installments           105382 non-null  float64       \n",
      " 8   payment_value                  105382 non-null  float64       \n",
      " 9   review_score                   105383 non-null  int64         \n",
      " 10  customer_unique_id             105383 non-null  object        \n",
      " 11  customer_zip_code_prefix       105383 non-null  int64         \n",
      " 12  customer_city                  105383 non-null  object        \n",
      " 13  customer_state                 105383 non-null  object        \n",
      " 14  product_category_name_english  102973 non-null  object        \n",
      "dtypes: datetime64[ns](2), float64(2), int64(3), object(8)\n",
      "memory usage: 12.1+ MB\n",
      "None\n"
     ]
    }
   ],
   "source": [
    "print(f\"{df['product_category_name_english'].isnull().value_counts()}\")\n",
    "print(f\"{df['order_delivered_customer_date'].isnull().value_counts()}\")\n",
    "print(df.info())"
   ]
  },
  {
   "cell_type": "markdown",
   "id": "30110e09",
   "metadata": {},
   "source": [
    "**values in \"order_delivered_customer_date\", "
   ]
  },
  {
   "cell_type": "markdown",
   "id": "c20dae84",
   "metadata": {},
   "source": [
    "❓ Can you find an explanation for the missing `order_delivered_customer_date` ? \n",
    "(hint : Check for non delivered orders)"
   ]
  },
  {
   "cell_type": "code",
   "execution_count": 10,
   "id": "1e298334",
   "metadata": {},
   "outputs": [],
   "source": [
    "df.groupby(['order_status'])['order_delivered_customer_date'].aggregate('count').reset_index().sort_values('order_status',ascending = False)\n",
    "nan_order = df.copy()\n",
    "nan_order['order_delivered_customer_date'] = nan_order['order_delivered_customer_date'].fillna(1)\n",
    "missing_order_count = nan_order.groupby(['order_status'])['order_delivered_customer_date'].aggregate('count').reset_index().sort_values('order_status',ascending = False)"
   ]
  },
  {
   "cell_type": "markdown",
   "id": "517593c2",
   "metadata": {},
   "source": [
    "**They do not yet have the status of delivered**"
   ]
  },
  {
   "cell_type": "markdown",
   "id": "8fda8f88",
   "metadata": {},
   "source": [
    "❓ What are the proportions of each `order_status` ? "
   ]
  },
  {
   "cell_type": "code",
   "execution_count": 11,
   "id": "d65a2979",
   "metadata": {},
   "outputs": [
    {
     "data": {
      "text/html": [
       "<div>\n",
       "<style scoped>\n",
       "    .dataframe tbody tr th:only-of-type {\n",
       "        vertical-align: middle;\n",
       "    }\n",
       "\n",
       "    .dataframe tbody tr th {\n",
       "        vertical-align: top;\n",
       "    }\n",
       "\n",
       "    .dataframe thead th {\n",
       "        text-align: right;\n",
       "    }\n",
       "</style>\n",
       "<table border=\"1\" class=\"dataframe\">\n",
       "  <thead>\n",
       "    <tr style=\"text-align: right;\">\n",
       "      <th></th>\n",
       "      <th>order_status</th>\n",
       "      <th>order_delivered_customer_date</th>\n",
       "    </tr>\n",
       "  </thead>\n",
       "  <tbody>\n",
       "    <tr>\n",
       "      <th>7</th>\n",
       "      <td>unavailable</td>\n",
       "      <td>651</td>\n",
       "    </tr>\n",
       "    <tr>\n",
       "      <th>6</th>\n",
       "      <td>shipped</td>\n",
       "      <td>1180</td>\n",
       "    </tr>\n",
       "    <tr>\n",
       "      <th>5</th>\n",
       "      <td>processing</td>\n",
       "      <td>321</td>\n",
       "    </tr>\n",
       "    <tr>\n",
       "      <th>4</th>\n",
       "      <td>invoiced</td>\n",
       "      <td>330</td>\n",
       "    </tr>\n",
       "    <tr>\n",
       "      <th>3</th>\n",
       "      <td>delivered</td>\n",
       "      <td>102225</td>\n",
       "    </tr>\n",
       "    <tr>\n",
       "      <th>2</th>\n",
       "      <td>created</td>\n",
       "      <td>5</td>\n",
       "    </tr>\n",
       "    <tr>\n",
       "      <th>1</th>\n",
       "      <td>canceled</td>\n",
       "      <td>669</td>\n",
       "    </tr>\n",
       "    <tr>\n",
       "      <th>0</th>\n",
       "      <td>approved</td>\n",
       "      <td>2</td>\n",
       "    </tr>\n",
       "  </tbody>\n",
       "</table>\n",
       "</div>"
      ],
      "text/plain": [
       "  order_status  order_delivered_customer_date\n",
       "7  unavailable                            651\n",
       "6      shipped                           1180\n",
       "5   processing                            321\n",
       "4     invoiced                            330\n",
       "3    delivered                         102225\n",
       "2      created                              5\n",
       "1     canceled                            669\n",
       "0     approved                              2"
      ]
     },
     "execution_count": 11,
     "metadata": {},
     "output_type": "execute_result"
    }
   ],
   "source": [
    "missing_order_count"
   ]
  },
  {
   "cell_type": "markdown",
   "id": "ec529161",
   "metadata": {},
   "source": [
    "❓ Which `order_status` do you think should be removed from the analysis"
   ]
  },
  {
   "cell_type": "markdown",
   "id": "cd6b0497",
   "metadata": {},
   "source": [
    "**processing\t321  \n",
    "4\tinvoiced\t330  \n",
    "3\tdelivered\t102225  \n",
    "2\tcreated\t     5  \n",
    "1\tcanceled\t669  \n",
    "0\tapproved**  \n",
    "Very fews values and we want deliverd and shiped"
   ]
  },
  {
   "cell_type": "markdown",
   "id": "ee08d779",
   "metadata": {},
   "source": [
    "❓ What feature would you choose in the e-commerce dataset provided? "
   ]
  },
  {
   "cell_type": "markdown",
   "id": "6f4bc972",
   "metadata": {},
   "source": [
    "**order_id|customer_unique_id|order_purchase_timestamp|payment_value**"
   ]
  },
  {
   "cell_type": "markdown",
   "id": "15ef2508",
   "metadata": {},
   "source": [
    "❓ What method would you use to group the data? "
   ]
  },
  {
   "cell_type": "markdown",
   "id": "3397e215",
   "metadata": {},
   "source": [
    "**groupby**"
   ]
  },
  {
   "cell_type": "markdown",
   "id": "88b13787",
   "metadata": {},
   "source": [
    "❓ What feature would you use to group the data? "
   ]
  },
  {
   "cell_type": "markdown",
   "id": "5f226825",
   "metadata": {},
   "source": [
    "**order_id|customer_unique_id|order_purchase_timestamp|payment_value**"
   ]
  },
  {
   "cell_type": "markdown",
   "id": "3e6e7dd2",
   "metadata": {
    "ExecuteTime": {
     "end_time": "2021-09-30T14:45:48.656723Z",
     "start_time": "2021-09-30T14:45:48.652125Z"
    }
   },
   "source": [
    "Group the data. (Hint: you can carry out the grouping one by one and then merge, or even better use the .agg method and get a robust grouping in one line of code)"
   ]
  },
  {
   "cell_type": "code",
   "execution_count": 15,
   "id": "2c358114",
   "metadata": {},
   "outputs": [
    {
     "data": {
      "text/plain": [
       "Timestamp('2018-10-17 17:30:18')"
      ]
     },
     "execution_count": 15,
     "metadata": {},
     "output_type": "execute_result"
    }
   ],
   "source": [
    "latest_date = max(df['order_delivered_customer_date'])\n",
    "latest_date"
   ]
  },
  {
   "cell_type": "code",
   "execution_count": 78,
   "id": "fefc6dce",
   "metadata": {},
   "outputs": [],
   "source": [
    "RFMScores= df.groupby('customer_id').agg({'order_purchase_timestamp': lambda x: (latest_date-x.max()).days, 'order_id': lambda x: len(x), 'payment_value': lambda x: x.sum() })"
   ]
  },
  {
   "cell_type": "code",
   "execution_count": 79,
   "id": "3af36429",
   "metadata": {},
   "outputs": [],
   "source": [
    "RFMScores['order_purchase_timestamp'] = RFMScores['order_purchase_timestamp'].astype(int)\n",
    "RFMScores.rename(columns={'order_purchase_timestamp':'Recency',\n",
    "                        'order_id' : 'Frequency',\n",
    "                         'payment_value' : 'Monetary'}, inplace = True)"
   ]
  },
  {
   "cell_type": "code",
   "execution_count": 80,
   "id": "26e32d7d",
   "metadata": {},
   "outputs": [
    {
     "data": {
      "text/html": [
       "<div>\n",
       "<style scoped>\n",
       "    .dataframe tbody tr th:only-of-type {\n",
       "        vertical-align: middle;\n",
       "    }\n",
       "\n",
       "    .dataframe tbody tr th {\n",
       "        vertical-align: top;\n",
       "    }\n",
       "\n",
       "    .dataframe thead th {\n",
       "        text-align: right;\n",
       "    }\n",
       "</style>\n",
       "<table border=\"1\" class=\"dataframe\">\n",
       "  <thead>\n",
       "    <tr style=\"text-align: right;\">\n",
       "      <th></th>\n",
       "      <th>Recency</th>\n",
       "      <th>Frequency</th>\n",
       "      <th>Monetary</th>\n",
       "    </tr>\n",
       "    <tr>\n",
       "      <th>customer_id</th>\n",
       "      <th></th>\n",
       "      <th></th>\n",
       "      <th></th>\n",
       "    </tr>\n",
       "  </thead>\n",
       "  <tbody>\n",
       "    <tr>\n",
       "      <th>00012a2ce6f8dcda20d059ce98491703</th>\n",
       "      <td>337</td>\n",
       "      <td>1</td>\n",
       "      <td>114.74</td>\n",
       "    </tr>\n",
       "    <tr>\n",
       "      <th>000161a058600d5901f007fab4c27140</th>\n",
       "      <td>458</td>\n",
       "      <td>1</td>\n",
       "      <td>67.41</td>\n",
       "    </tr>\n",
       "    <tr>\n",
       "      <th>0001fd6190edaaf884bcaf3d49edf079</th>\n",
       "      <td>596</td>\n",
       "      <td>1</td>\n",
       "      <td>195.42</td>\n",
       "    </tr>\n",
       "    <tr>\n",
       "      <th>0002414f95344307404f0ace7a26f1d5</th>\n",
       "      <td>427</td>\n",
       "      <td>1</td>\n",
       "      <td>179.35</td>\n",
       "    </tr>\n",
       "    <tr>\n",
       "      <th>000379cdec625522490c315e70c7a9fb</th>\n",
       "      <td>198</td>\n",
       "      <td>1</td>\n",
       "      <td>107.01</td>\n",
       "    </tr>\n",
       "    <tr>\n",
       "      <th>...</th>\n",
       "      <td>...</td>\n",
       "      <td>...</td>\n",
       "      <td>...</td>\n",
       "    </tr>\n",
       "    <tr>\n",
       "      <th>fffecc9f79fd8c764f843e9951b11341</th>\n",
       "      <td>202</td>\n",
       "      <td>3</td>\n",
       "      <td>81.36</td>\n",
       "    </tr>\n",
       "    <tr>\n",
       "      <th>fffeda5b6d849fbd39689bb92087f431</th>\n",
       "      <td>148</td>\n",
       "      <td>1</td>\n",
       "      <td>63.13</td>\n",
       "    </tr>\n",
       "    <tr>\n",
       "      <th>ffff42319e9b2d713724ae527742af25</th>\n",
       "      <td>126</td>\n",
       "      <td>1</td>\n",
       "      <td>214.13</td>\n",
       "    </tr>\n",
       "    <tr>\n",
       "      <th>ffffa3172527f765de70084a7e53aae8</th>\n",
       "      <td>410</td>\n",
       "      <td>1</td>\n",
       "      <td>45.50</td>\n",
       "    </tr>\n",
       "    <tr>\n",
       "      <th>ffffe8b65bbe3087b653a978c870db99</th>\n",
       "      <td>383</td>\n",
       "      <td>1</td>\n",
       "      <td>18.37</td>\n",
       "    </tr>\n",
       "  </tbody>\n",
       "</table>\n",
       "<p>99441 rows × 3 columns</p>\n",
       "</div>"
      ],
      "text/plain": [
       "                                  Recency  Frequency  Monetary\n",
       "customer_id                                                   \n",
       "00012a2ce6f8dcda20d059ce98491703      337          1    114.74\n",
       "000161a058600d5901f007fab4c27140      458          1     67.41\n",
       "0001fd6190edaaf884bcaf3d49edf079      596          1    195.42\n",
       "0002414f95344307404f0ace7a26f1d5      427          1    179.35\n",
       "000379cdec625522490c315e70c7a9fb      198          1    107.01\n",
       "...                                   ...        ...       ...\n",
       "fffecc9f79fd8c764f843e9951b11341      202          3     81.36\n",
       "fffeda5b6d849fbd39689bb92087f431      148          1     63.13\n",
       "ffff42319e9b2d713724ae527742af25      126          1    214.13\n",
       "ffffa3172527f765de70084a7e53aae8      410          1     45.50\n",
       "ffffe8b65bbe3087b653a978c870db99      383          1     18.37\n",
       "\n",
       "[99441 rows x 3 columns]"
      ]
     },
     "execution_count": 80,
     "metadata": {},
     "output_type": "execute_result"
    }
   ],
   "source": [
    "RFMScores"
   ]
  },
  {
   "cell_type": "markdown",
   "id": "41ade656",
   "metadata": {},
   "source": [
    "What type of data is the R supposed to be? Is it in the right format? (Hint : investigate the difference between `datetime` and `timedelta`) "
   ]
  },
  {
   "cell_type": "markdown",
   "id": "b1eb3670",
   "metadata": {},
   "source": [
    "**Time delta, but here in int**"
   ]
  },
  {
   "cell_type": "markdown",
   "id": "e9412e54",
   "metadata": {
    "ExecuteTime": {
     "end_time": "2021-09-30T17:12:07.784903Z",
     "start_time": "2021-09-30T17:12:07.774134Z"
    }
   },
   "source": [
    "So there is one more step to carry out before the data is ready : Calculate the recency base on the date of the purchase"
   ]
  },
  {
   "cell_type": "markdown",
   "id": "1d5c27fa",
   "metadata": {},
   "source": [
    "❓ What is the date of the least purchase?"
   ]
  },
  {
   "cell_type": "markdown",
   "id": "2d623bbb",
   "metadata": {
    "ExecuteTime": {
     "end_time": "2021-09-30T17:14:26.599702Z",
     "start_time": "2021-09-30T17:14:26.592777Z"
    }
   },
   "source": [
    "❓What is the date of the most recent purchase?"
   ]
  },
  {
   "cell_type": "code",
   "execution_count": 81,
   "id": "4afe4d58",
   "metadata": {},
   "outputs": [
    {
     "data": {
      "text/plain": [
       "Timestamp('2018-10-17 17:30:18')"
      ]
     },
     "execution_count": 81,
     "metadata": {},
     "output_type": "execute_result"
    }
   ],
   "source": [
    "max(df['order_purchase_timestamp'])"
   ]
  },
  {
   "cell_type": "code",
   "execution_count": null,
   "id": "75187a3b",
   "metadata": {},
   "outputs": [],
   "source": []
  },
  {
   "cell_type": "markdown",
   "id": "4c54092d",
   "metadata": {},
   "source": [
    "❓How would you calculate the recency? (hint: what date would you use to compare with the purchase date? Today? probably not...)"
   ]
  },
  {
   "cell_type": "markdown",
   "id": "bc55136a",
   "metadata": {},
   "source": [
    "Recency: customer_unique_id / order_purchase_timestamp use the last date of our dataSet"
   ]
  },
  {
   "cell_type": "markdown",
   "id": "f6705b2f",
   "metadata": {},
   "source": [
    "Create a feature calculating the difference between `the most recent purchased + 1 day`, and `order_purchase_timestamp`."
   ]
  },
  {
   "cell_type": "markdown",
   "id": "258ca32b",
   "metadata": {},
   "source": [
    "Now that you have created a new dataset with the right columns, explore it to understand what you created."
   ]
  },
  {
   "cell_type": "markdown",
   "id": "813d87c9",
   "metadata": {},
   "source": [
    "❓Which column is the R? The F? The M?"
   ]
  },
  {
   "cell_type": "markdown",
   "id": "69bfcaf9",
   "metadata": {},
   "source": [
    "**order_id|R:customer_unique_id|F:order_purchase_timestamp|M:payment_value**"
   ]
  },
  {
   "cell_type": "markdown",
   "id": "06477a58",
   "metadata": {},
   "source": [
    "Now for each metric independantly, build clutsers (Hint 1: you can use `.describe()` to have insights about each metrics. Hint 2: Don't choose more than 3 clusters)"
   ]
  },
  {
   "cell_type": "code",
   "execution_count": 82,
   "id": "10cd75b2",
   "metadata": {},
   "outputs": [
    {
     "data": {
      "text/html": [
       "<div>\n",
       "<style scoped>\n",
       "    .dataframe tbody tr th:only-of-type {\n",
       "        vertical-align: middle;\n",
       "    }\n",
       "\n",
       "    .dataframe tbody tr th {\n",
       "        vertical-align: top;\n",
       "    }\n",
       "\n",
       "    .dataframe thead th {\n",
       "        text-align: right;\n",
       "    }\n",
       "</style>\n",
       "<table border=\"1\" class=\"dataframe\">\n",
       "  <thead>\n",
       "    <tr style=\"text-align: right;\">\n",
       "      <th></th>\n",
       "      <th>count</th>\n",
       "      <th>mean</th>\n",
       "      <th>std</th>\n",
       "      <th>min</th>\n",
       "      <th>0%</th>\n",
       "      <th>10%</th>\n",
       "      <th>20%</th>\n",
       "      <th>30%</th>\n",
       "      <th>40%</th>\n",
       "      <th>50%</th>\n",
       "      <th>60%</th>\n",
       "      <th>70%</th>\n",
       "      <th>80%</th>\n",
       "      <th>90%</th>\n",
       "      <th>max</th>\n",
       "    </tr>\n",
       "  </thead>\n",
       "  <tbody>\n",
       "    <tr>\n",
       "      <th>Recency</th>\n",
       "      <td>99441.0</td>\n",
       "      <td>289.900192</td>\n",
       "      <td>153.667316</td>\n",
       "      <td>0.0</td>\n",
       "      <td>0.0</td>\n",
       "      <td>91.00</td>\n",
       "      <td>145.00</td>\n",
       "      <td>186.00</td>\n",
       "      <td>229.00</td>\n",
       "      <td>271.00</td>\n",
       "      <td>320.00</td>\n",
       "      <td>366.00</td>\n",
       "      <td>436.00</td>\n",
       "      <td>518.00</td>\n",
       "      <td>772.00</td>\n",
       "    </tr>\n",
       "    <tr>\n",
       "      <th>Frequency</th>\n",
       "      <td>99441.0</td>\n",
       "      <td>1.059754</td>\n",
       "      <td>0.436067</td>\n",
       "      <td>1.0</td>\n",
       "      <td>1.0</td>\n",
       "      <td>1.00</td>\n",
       "      <td>1.00</td>\n",
       "      <td>1.00</td>\n",
       "      <td>1.00</td>\n",
       "      <td>1.00</td>\n",
       "      <td>1.00</td>\n",
       "      <td>1.00</td>\n",
       "      <td>1.00</td>\n",
       "      <td>1.00</td>\n",
       "      <td>42.00</td>\n",
       "    </tr>\n",
       "    <tr>\n",
       "      <th>Monetary</th>\n",
       "      <td>99441.0</td>\n",
       "      <td>163.854711</td>\n",
       "      <td>227.668134</td>\n",
       "      <td>0.0</td>\n",
       "      <td>0.0</td>\n",
       "      <td>39.69</td>\n",
       "      <td>54.76</td>\n",
       "      <td>69.01</td>\n",
       "      <td>85.94</td>\n",
       "      <td>105.95</td>\n",
       "      <td>129.89</td>\n",
       "      <td>160.37</td>\n",
       "      <td>205.21</td>\n",
       "      <td>314.64</td>\n",
       "      <td>13664.08</td>\n",
       "    </tr>\n",
       "  </tbody>\n",
       "</table>\n",
       "</div>"
      ],
      "text/plain": [
       "             count        mean         std  min   0%    10%     20%     30%  \\\n",
       "Recency    99441.0  289.900192  153.667316  0.0  0.0  91.00  145.00  186.00   \n",
       "Frequency  99441.0    1.059754    0.436067  1.0  1.0   1.00    1.00    1.00   \n",
       "Monetary   99441.0  163.854711  227.668134  0.0  0.0  39.69   54.76   69.01   \n",
       "\n",
       "              40%     50%     60%     70%     80%     90%       max  \n",
       "Recency    229.00  271.00  320.00  366.00  436.00  518.00    772.00  \n",
       "Frequency    1.00    1.00    1.00    1.00    1.00    1.00     42.00  \n",
       "Monetary    85.94  105.95  129.89  160.37  205.21  314.64  13664.08  "
      ]
     },
     "execution_count": 82,
     "metadata": {},
     "output_type": "execute_result"
    }
   ],
   "source": [
    "RFMScores.describe(percentiles=np.arange(0,1,0.1)).T\n"
   ]
  },
  {
   "cell_type": "markdown",
   "id": "1179193a",
   "metadata": {},
   "source": [
    "Now that you have clusters for each category, explain the different buying behaviors"
   ]
  },
  {
   "cell_type": "code",
   "execution_count": 85,
   "id": "cd798bff",
   "metadata": {},
   "outputs": [
    {
     "data": {
      "text/plain": [
       "array([[<AxesSubplot:title={'center':'Recency'}>,\n",
       "        <AxesSubplot:title={'center':'Frequency'}>],\n",
       "       [<AxesSubplot:title={'center':'Monetary'}>, <AxesSubplot:>]],\n",
       "      dtype=object)"
      ]
     },
     "execution_count": 85,
     "metadata": {},
     "output_type": "execute_result"
    },
    {
     "data": {
      "image/png": "[encoded data removed]",
      "text/plain": [
       "<Figure size 1080x1440 with 4 Axes>"
      ]
     },
     "metadata": {
      "needs_background": "light"
     },
     "output_type": "display_data"
    }
   ],
   "source": [
    "RFMScores.hist(figsize=(15,20))"
   ]
  },
  {
   "cell_type": "code",
   "execution_count": 86,
   "id": "eb982a63",
   "metadata": {},
   "outputs": [],
   "source": [
    "#Split into three segment using quantiles\n",
    "quantiles = RFMScores.quantile([0.25,0.5,0.75])\n",
    "quantiles = quantiles.to_dict()"
   ]
  },
  {
   "cell_type": "code",
   "execution_count": 87,
   "id": "dea493f8",
   "metadata": {},
   "outputs": [
    {
     "data": {
      "text/plain": [
       "{'Recency': {0.25: 166.0, 0.5: 271.0, 0.75: 400.0},\n",
       " 'Frequency': {0.25: 1.0, 0.5: 1.0, 0.75: 1.0},\n",
       " 'Monetary': {0.25: 62.25, 0.5: 105.95, 0.75: 178.71}}"
      ]
     },
     "execution_count": 87,
     "metadata": {},
     "output_type": "execute_result"
    }
   ],
   "source": [
    "quantiles"
   ]
  },
  {
   "cell_type": "code",
   "execution_count": 96,
   "id": "65330b29",
   "metadata": {},
   "outputs": [],
   "source": [
    "# Functions to create R, F, M segments\n",
    "def Rscoring(x,p,d):\n",
    "    if x <= d[p][0.25]:\n",
    "        return 1\n",
    "    elif x <= d[p][0.50]:\n",
    "        return 2\n",
    "    elif x <= d[p][0.75]:\n",
    "        return 3\n",
    "    else:\n",
    "        return 4\n",
    "\n",
    "def FnMcoring(x,p,d):\n",
    "    if x <= d[p][0.25]:\n",
    "        return 4\n",
    "    elif x <= d[p][0.50]:\n",
    "        return 3\n",
    "    elif x <= d[p][0.75]:\n",
    "        return 2\n",
    "    else:\n",
    "        return 1"
   ]
  },
  {
   "cell_type": "code",
   "execution_count": 97,
   "id": "fde19c0f",
   "metadata": {},
   "outputs": [
    {
     "data": {
      "text/html": [
       "<div>\n",
       "<style scoped>\n",
       "    .dataframe tbody tr th:only-of-type {\n",
       "        vertical-align: middle;\n",
       "    }\n",
       "\n",
       "    .dataframe tbody tr th {\n",
       "        vertical-align: top;\n",
       "    }\n",
       "\n",
       "    .dataframe thead th {\n",
       "        text-align: right;\n",
       "    }\n",
       "</style>\n",
       "<table border=\"1\" class=\"dataframe\">\n",
       "  <thead>\n",
       "    <tr style=\"text-align: right;\">\n",
       "      <th></th>\n",
       "      <th>Recency</th>\n",
       "      <th>Frequency</th>\n",
       "      <th>Monetary</th>\n",
       "      <th>R</th>\n",
       "      <th>F</th>\n",
       "      <th>M</th>\n",
       "    </tr>\n",
       "    <tr>\n",
       "      <th>customer_id</th>\n",
       "      <th></th>\n",
       "      <th></th>\n",
       "      <th></th>\n",
       "      <th></th>\n",
       "      <th></th>\n",
       "      <th></th>\n",
       "    </tr>\n",
       "  </thead>\n",
       "  <tbody>\n",
       "    <tr>\n",
       "      <th>00012a2ce6f8dcda20d059ce98491703</th>\n",
       "      <td>337</td>\n",
       "      <td>1</td>\n",
       "      <td>114.74</td>\n",
       "      <td>3</td>\n",
       "      <td>1</td>\n",
       "      <td>3</td>\n",
       "    </tr>\n",
       "    <tr>\n",
       "      <th>000161a058600d5901f007fab4c27140</th>\n",
       "      <td>458</td>\n",
       "      <td>1</td>\n",
       "      <td>67.41</td>\n",
       "      <td>4</td>\n",
       "      <td>1</td>\n",
       "      <td>2</td>\n",
       "    </tr>\n",
       "    <tr>\n",
       "      <th>0001fd6190edaaf884bcaf3d49edf079</th>\n",
       "      <td>596</td>\n",
       "      <td>1</td>\n",
       "      <td>195.42</td>\n",
       "      <td>4</td>\n",
       "      <td>1</td>\n",
       "      <td>4</td>\n",
       "    </tr>\n",
       "    <tr>\n",
       "      <th>0002414f95344307404f0ace7a26f1d5</th>\n",
       "      <td>427</td>\n",
       "      <td>1</td>\n",
       "      <td>179.35</td>\n",
       "      <td>4</td>\n",
       "      <td>1</td>\n",
       "      <td>4</td>\n",
       "    </tr>\n",
       "    <tr>\n",
       "      <th>000379cdec625522490c315e70c7a9fb</th>\n",
       "      <td>198</td>\n",
       "      <td>1</td>\n",
       "      <td>107.01</td>\n",
       "      <td>2</td>\n",
       "      <td>1</td>\n",
       "      <td>3</td>\n",
       "    </tr>\n",
       "  </tbody>\n",
       "</table>\n",
       "</div>"
      ],
      "text/plain": [
       "                                  Recency  Frequency  Monetary  R  F  M\n",
       "customer_id                                                            \n",
       "00012a2ce6f8dcda20d059ce98491703      337          1    114.74  3  1  3\n",
       "000161a058600d5901f007fab4c27140      458          1     67.41  4  1  2\n",
       "0001fd6190edaaf884bcaf3d49edf079      596          1    195.42  4  1  4\n",
       "0002414f95344307404f0ace7a26f1d5      427          1    179.35  4  1  4\n",
       "000379cdec625522490c315e70c7a9fb      198          1    107.01  2  1  3"
      ]
     },
     "execution_count": 97,
     "metadata": {},
     "output_type": "execute_result"
    }
   ],
   "source": [
    "RFMScores['R'] = RFMScores['Recency'].apply(Rscoring, args=('Recency',quantiles,))\n",
    "RFMScores['F'] = RFMScores['Frequency'].apply(Rscoring, args=('Frequency',quantiles,))\n",
    "RFMScores['M'] = RFMScores['Monetary'].apply(Rscoring, args=('Monetary',quantiles,))\n",
    "RFMScores.head()"
   ]
  },
  {
   "cell_type": "code",
   "execution_count": 107,
   "id": "315e472f",
   "metadata": {},
   "outputs": [
    {
     "data": {
      "text/plain": [
       "array([ 7,  9,  6,  4,  5,  8, 11,  3, 12, 10], dtype=int64)"
      ]
     },
     "execution_count": 107,
     "metadata": {},
     "output_type": "execute_result"
    }
   ],
   "source": [
    "# SHow show column combined concatenante column score\n",
    "RFMScores['RFMgroup'] = RFMScores.R.map(str) + RFMScores.F.map(str) + RFMScores.M.map(str)\n",
    "\n",
    "#Total sum of RFMgroup\n",
    "\n",
    "RFMScores['RFMScore'] = RFMScores[['R','F','M']].sum(axis = 1)\n",
    "RFMScores['RFMScore'].unique()"
   ]
  },
  {
   "cell_type": "code",
   "execution_count": 108,
   "id": "d210af3c",
   "metadata": {},
   "outputs": [
    {
     "data": {
      "text/html": [
       "<div>\n",
       "<style scoped>\n",
       "    .dataframe tbody tr th:only-of-type {\n",
       "        vertical-align: middle;\n",
       "    }\n",
       "\n",
       "    .dataframe tbody tr th {\n",
       "        vertical-align: top;\n",
       "    }\n",
       "\n",
       "    .dataframe thead th {\n",
       "        text-align: right;\n",
       "    }\n",
       "</style>\n",
       "<table border=\"1\" class=\"dataframe\">\n",
       "  <thead>\n",
       "    <tr style=\"text-align: right;\">\n",
       "      <th></th>\n",
       "      <th>Recency</th>\n",
       "      <th>Frequency</th>\n",
       "      <th>Monetary</th>\n",
       "      <th>R</th>\n",
       "      <th>F</th>\n",
       "      <th>M</th>\n",
       "      <th>RFMgroup</th>\n",
       "      <th>RFMScore</th>\n",
       "    </tr>\n",
       "    <tr>\n",
       "      <th>customer_id</th>\n",
       "      <th></th>\n",
       "      <th></th>\n",
       "      <th></th>\n",
       "      <th></th>\n",
       "      <th></th>\n",
       "      <th></th>\n",
       "      <th></th>\n",
       "      <th></th>\n",
       "    </tr>\n",
       "  </thead>\n",
       "  <tbody>\n",
       "    <tr>\n",
       "      <th>00012a2ce6f8dcda20d059ce98491703</th>\n",
       "      <td>337</td>\n",
       "      <td>1</td>\n",
       "      <td>114.74</td>\n",
       "      <td>3</td>\n",
       "      <td>1</td>\n",
       "      <td>3</td>\n",
       "      <td>313</td>\n",
       "      <td>7</td>\n",
       "    </tr>\n",
       "    <tr>\n",
       "      <th>000161a058600d5901f007fab4c27140</th>\n",
       "      <td>458</td>\n",
       "      <td>1</td>\n",
       "      <td>67.41</td>\n",
       "      <td>4</td>\n",
       "      <td>1</td>\n",
       "      <td>2</td>\n",
       "      <td>412</td>\n",
       "      <td>7</td>\n",
       "    </tr>\n",
       "    <tr>\n",
       "      <th>0001fd6190edaaf884bcaf3d49edf079</th>\n",
       "      <td>596</td>\n",
       "      <td>1</td>\n",
       "      <td>195.42</td>\n",
       "      <td>4</td>\n",
       "      <td>1</td>\n",
       "      <td>4</td>\n",
       "      <td>414</td>\n",
       "      <td>9</td>\n",
       "    </tr>\n",
       "    <tr>\n",
       "      <th>0002414f95344307404f0ace7a26f1d5</th>\n",
       "      <td>427</td>\n",
       "      <td>1</td>\n",
       "      <td>179.35</td>\n",
       "      <td>4</td>\n",
       "      <td>1</td>\n",
       "      <td>4</td>\n",
       "      <td>414</td>\n",
       "      <td>9</td>\n",
       "    </tr>\n",
       "    <tr>\n",
       "      <th>000379cdec625522490c315e70c7a9fb</th>\n",
       "      <td>198</td>\n",
       "      <td>1</td>\n",
       "      <td>107.01</td>\n",
       "      <td>2</td>\n",
       "      <td>1</td>\n",
       "      <td>3</td>\n",
       "      <td>213</td>\n",
       "      <td>6</td>\n",
       "    </tr>\n",
       "    <tr>\n",
       "      <th>...</th>\n",
       "      <td>...</td>\n",
       "      <td>...</td>\n",
       "      <td>...</td>\n",
       "      <td>...</td>\n",
       "      <td>...</td>\n",
       "      <td>...</td>\n",
       "      <td>...</td>\n",
       "      <td>...</td>\n",
       "    </tr>\n",
       "    <tr>\n",
       "      <th>fffecc9f79fd8c764f843e9951b11341</th>\n",
       "      <td>202</td>\n",
       "      <td>3</td>\n",
       "      <td>81.36</td>\n",
       "      <td>2</td>\n",
       "      <td>4</td>\n",
       "      <td>2</td>\n",
       "      <td>242</td>\n",
       "      <td>8</td>\n",
       "    </tr>\n",
       "    <tr>\n",
       "      <th>fffeda5b6d849fbd39689bb92087f431</th>\n",
       "      <td>148</td>\n",
       "      <td>1</td>\n",
       "      <td>63.13</td>\n",
       "      <td>1</td>\n",
       "      <td>1</td>\n",
       "      <td>2</td>\n",
       "      <td>112</td>\n",
       "      <td>4</td>\n",
       "    </tr>\n",
       "    <tr>\n",
       "      <th>ffff42319e9b2d713724ae527742af25</th>\n",
       "      <td>126</td>\n",
       "      <td>1</td>\n",
       "      <td>214.13</td>\n",
       "      <td>1</td>\n",
       "      <td>1</td>\n",
       "      <td>4</td>\n",
       "      <td>114</td>\n",
       "      <td>6</td>\n",
       "    </tr>\n",
       "    <tr>\n",
       "      <th>ffffa3172527f765de70084a7e53aae8</th>\n",
       "      <td>410</td>\n",
       "      <td>1</td>\n",
       "      <td>45.50</td>\n",
       "      <td>4</td>\n",
       "      <td>1</td>\n",
       "      <td>1</td>\n",
       "      <td>411</td>\n",
       "      <td>6</td>\n",
       "    </tr>\n",
       "    <tr>\n",
       "      <th>ffffe8b65bbe3087b653a978c870db99</th>\n",
       "      <td>383</td>\n",
       "      <td>1</td>\n",
       "      <td>18.37</td>\n",
       "      <td>3</td>\n",
       "      <td>1</td>\n",
       "      <td>1</td>\n",
       "      <td>311</td>\n",
       "      <td>5</td>\n",
       "    </tr>\n",
       "  </tbody>\n",
       "</table>\n",
       "<p>99441 rows × 8 columns</p>\n",
       "</div>"
      ],
      "text/plain": [
       "                                  Recency  Frequency  Monetary  R  F  M  \\\n",
       "customer_id                                                               \n",
       "00012a2ce6f8dcda20d059ce98491703      337          1    114.74  3  1  3   \n",
       "000161a058600d5901f007fab4c27140      458          1     67.41  4  1  2   \n",
       "0001fd6190edaaf884bcaf3d49edf079      596          1    195.42  4  1  4   \n",
       "0002414f95344307404f0ace7a26f1d5      427          1    179.35  4  1  4   \n",
       "000379cdec625522490c315e70c7a9fb      198          1    107.01  2  1  3   \n",
       "...                                   ...        ...       ... .. .. ..   \n",
       "fffecc9f79fd8c764f843e9951b11341      202          3     81.36  2  4  2   \n",
       "fffeda5b6d849fbd39689bb92087f431      148          1     63.13  1  1  2   \n",
       "ffff42319e9b2d713724ae527742af25      126          1    214.13  1  1  4   \n",
       "ffffa3172527f765de70084a7e53aae8      410          1     45.50  4  1  1   \n",
       "ffffe8b65bbe3087b653a978c870db99      383          1     18.37  3  1  1   \n",
       "\n",
       "                                 RFMgroup  RFMScore  \n",
       "customer_id                                          \n",
       "00012a2ce6f8dcda20d059ce98491703      313         7  \n",
       "000161a058600d5901f007fab4c27140      412         7  \n",
       "0001fd6190edaaf884bcaf3d49edf079      414         9  \n",
       "0002414f95344307404f0ace7a26f1d5      414         9  \n",
       "000379cdec625522490c315e70c7a9fb      213         6  \n",
       "...                                   ...       ...  \n",
       "fffecc9f79fd8c764f843e9951b11341      242         8  \n",
       "fffeda5b6d849fbd39689bb92087f431      112         4  \n",
       "ffff42319e9b2d713724ae527742af25      114         6  \n",
       "ffffa3172527f765de70084a7e53aae8      411         6  \n",
       "ffffe8b65bbe3087b653a978c870db99      311         5  \n",
       "\n",
       "[99441 rows x 8 columns]"
      ]
     },
     "execution_count": 108,
     "metadata": {},
     "output_type": "execute_result"
    }
   ],
   "source": [
    "RFMScores"
   ]
  },
  {
   "cell_type": "code",
   "execution_count": 111,
   "id": "87b9932d",
   "metadata": {},
   "outputs": [
    {
     "data": {
      "text/html": [
       "<div>\n",
       "<style scoped>\n",
       "    .dataframe tbody tr th:only-of-type {\n",
       "        vertical-align: middle;\n",
       "    }\n",
       "\n",
       "    .dataframe tbody tr th {\n",
       "        vertical-align: top;\n",
       "    }\n",
       "\n",
       "    .dataframe thead th {\n",
       "        text-align: right;\n",
       "    }\n",
       "</style>\n",
       "<table border=\"1\" class=\"dataframe\">\n",
       "  <thead>\n",
       "    <tr style=\"text-align: right;\">\n",
       "      <th></th>\n",
       "      <th>customer_id</th>\n",
       "      <th>Recency</th>\n",
       "      <th>Frequency</th>\n",
       "      <th>Monetary</th>\n",
       "      <th>R</th>\n",
       "      <th>F</th>\n",
       "      <th>M</th>\n",
       "      <th>RFMgroup</th>\n",
       "      <th>RFMScore</th>\n",
       "      <th>RFM_Fidelity_Level</th>\n",
       "    </tr>\n",
       "  </thead>\n",
       "  <tbody>\n",
       "    <tr>\n",
       "      <th>0</th>\n",
       "      <td>00012a2ce6f8dcda20d059ce98491703</td>\n",
       "      <td>337</td>\n",
       "      <td>1</td>\n",
       "      <td>114.74</td>\n",
       "      <td>3</td>\n",
       "      <td>1</td>\n",
       "      <td>3</td>\n",
       "      <td>313</td>\n",
       "      <td>7</td>\n",
       "      <td>Silver_Moon</td>\n",
       "    </tr>\n",
       "    <tr>\n",
       "      <th>1</th>\n",
       "      <td>000161a058600d5901f007fab4c27140</td>\n",
       "      <td>458</td>\n",
       "      <td>1</td>\n",
       "      <td>67.41</td>\n",
       "      <td>4</td>\n",
       "      <td>1</td>\n",
       "      <td>2</td>\n",
       "      <td>412</td>\n",
       "      <td>7</td>\n",
       "      <td>Silver_Moon</td>\n",
       "    </tr>\n",
       "    <tr>\n",
       "      <th>2</th>\n",
       "      <td>0001fd6190edaaf884bcaf3d49edf079</td>\n",
       "      <td>596</td>\n",
       "      <td>1</td>\n",
       "      <td>195.42</td>\n",
       "      <td>4</td>\n",
       "      <td>1</td>\n",
       "      <td>4</td>\n",
       "      <td>414</td>\n",
       "      <td>9</td>\n",
       "      <td>Crystal_Boy</td>\n",
       "    </tr>\n",
       "    <tr>\n",
       "      <th>3</th>\n",
       "      <td>0002414f95344307404f0ace7a26f1d5</td>\n",
       "      <td>427</td>\n",
       "      <td>1</td>\n",
       "      <td>179.35</td>\n",
       "      <td>4</td>\n",
       "      <td>1</td>\n",
       "      <td>4</td>\n",
       "      <td>414</td>\n",
       "      <td>9</td>\n",
       "      <td>Crystal_Boy</td>\n",
       "    </tr>\n",
       "    <tr>\n",
       "      <th>4</th>\n",
       "      <td>000379cdec625522490c315e70c7a9fb</td>\n",
       "      <td>198</td>\n",
       "      <td>1</td>\n",
       "      <td>107.01</td>\n",
       "      <td>2</td>\n",
       "      <td>1</td>\n",
       "      <td>3</td>\n",
       "      <td>213</td>\n",
       "      <td>6</td>\n",
       "      <td>Golden_Wind</td>\n",
       "    </tr>\n",
       "    <tr>\n",
       "      <th>...</th>\n",
       "      <td>...</td>\n",
       "      <td>...</td>\n",
       "      <td>...</td>\n",
       "      <td>...</td>\n",
       "      <td>...</td>\n",
       "      <td>...</td>\n",
       "      <td>...</td>\n",
       "      <td>...</td>\n",
       "      <td>...</td>\n",
       "      <td>...</td>\n",
       "    </tr>\n",
       "    <tr>\n",
       "      <th>99436</th>\n",
       "      <td>fffecc9f79fd8c764f843e9951b11341</td>\n",
       "      <td>202</td>\n",
       "      <td>3</td>\n",
       "      <td>81.36</td>\n",
       "      <td>2</td>\n",
       "      <td>4</td>\n",
       "      <td>2</td>\n",
       "      <td>242</td>\n",
       "      <td>8</td>\n",
       "      <td>Crystal_Boy</td>\n",
       "    </tr>\n",
       "    <tr>\n",
       "      <th>99437</th>\n",
       "      <td>fffeda5b6d849fbd39689bb92087f431</td>\n",
       "      <td>148</td>\n",
       "      <td>1</td>\n",
       "      <td>63.13</td>\n",
       "      <td>1</td>\n",
       "      <td>1</td>\n",
       "      <td>2</td>\n",
       "      <td>112</td>\n",
       "      <td>4</td>\n",
       "      <td>Star_Platinum</td>\n",
       "    </tr>\n",
       "    <tr>\n",
       "      <th>99438</th>\n",
       "      <td>ffff42319e9b2d713724ae527742af25</td>\n",
       "      <td>126</td>\n",
       "      <td>1</td>\n",
       "      <td>214.13</td>\n",
       "      <td>1</td>\n",
       "      <td>1</td>\n",
       "      <td>4</td>\n",
       "      <td>114</td>\n",
       "      <td>6</td>\n",
       "      <td>Golden_Wind</td>\n",
       "    </tr>\n",
       "    <tr>\n",
       "      <th>99439</th>\n",
       "      <td>ffffa3172527f765de70084a7e53aae8</td>\n",
       "      <td>410</td>\n",
       "      <td>1</td>\n",
       "      <td>45.50</td>\n",
       "      <td>4</td>\n",
       "      <td>1</td>\n",
       "      <td>1</td>\n",
       "      <td>411</td>\n",
       "      <td>6</td>\n",
       "      <td>Golden_Wind</td>\n",
       "    </tr>\n",
       "    <tr>\n",
       "      <th>99440</th>\n",
       "      <td>ffffe8b65bbe3087b653a978c870db99</td>\n",
       "      <td>383</td>\n",
       "      <td>1</td>\n",
       "      <td>18.37</td>\n",
       "      <td>3</td>\n",
       "      <td>1</td>\n",
       "      <td>1</td>\n",
       "      <td>311</td>\n",
       "      <td>5</td>\n",
       "      <td>Star_Platinum</td>\n",
       "    </tr>\n",
       "  </tbody>\n",
       "</table>\n",
       "<p>99441 rows × 10 columns</p>\n",
       "</div>"
      ],
      "text/plain": [
       "                            customer_id  Recency  Frequency  Monetary  R  F  \\\n",
       "0      00012a2ce6f8dcda20d059ce98491703      337          1    114.74  3  1   \n",
       "1      000161a058600d5901f007fab4c27140      458          1     67.41  4  1   \n",
       "2      0001fd6190edaaf884bcaf3d49edf079      596          1    195.42  4  1   \n",
       "3      0002414f95344307404f0ace7a26f1d5      427          1    179.35  4  1   \n",
       "4      000379cdec625522490c315e70c7a9fb      198          1    107.01  2  1   \n",
       "...                                 ...      ...        ...       ... .. ..   \n",
       "99436  fffecc9f79fd8c764f843e9951b11341      202          3     81.36  2  4   \n",
       "99437  fffeda5b6d849fbd39689bb92087f431      148          1     63.13  1  1   \n",
       "99438  ffff42319e9b2d713724ae527742af25      126          1    214.13  1  1   \n",
       "99439  ffffa3172527f765de70084a7e53aae8      410          1     45.50  4  1   \n",
       "99440  ffffe8b65bbe3087b653a978c870db99      383          1     18.37  3  1   \n",
       "\n",
       "       M RFMgroup  RFMScore RFM_Fidelity_Level  \n",
       "0      3      313         7        Silver_Moon  \n",
       "1      2      412         7        Silver_Moon  \n",
       "2      4      414         9        Crystal_Boy  \n",
       "3      4      414         9        Crystal_Boy  \n",
       "4      3      213         6        Golden_Wind  \n",
       "...   ..      ...       ...                ...  \n",
       "99436  2      242         8        Crystal_Boy  \n",
       "99437  2      112         4      Star_Platinum  \n",
       "99438  4      114         6        Golden_Wind  \n",
       "99439  1      411         6        Golden_Wind  \n",
       "99440  1      311         5      Star_Platinum  \n",
       "\n",
       "[99441 rows x 10 columns]"
      ]
     },
     "execution_count": 111,
     "metadata": {},
     "output_type": "execute_result"
    }
   ],
   "source": [
    "#Assign fidelity level to each customer\n",
    "\n",
    "fidelity_level = ['Star_Platinum','Golden_Wind','Silver_Moon','Crystal_Boy']\n",
    "score_cuts = pd.qcut(RFMScores.RFMScore, q=4,labels = fidelity_level)\n",
    "RFMScores['RFM_Fidelity_Level'] = score_cuts.values\n",
    "RFMScores.reset_index()\n"
   ]
  },
  {
   "cell_type": "markdown",
   "id": "35e5c910",
   "metadata": {},
   "source": [
    "# Working with cohorts"
   ]
  },
  {
   "cell_type": "markdown",
   "id": "dfff1220",
   "metadata": {},
   "source": [
    "❓What is a cohort? "
   ]
  },
  {
   "cell_type": "code",
   "execution_count": null,
   "id": "9f5f8678",
   "metadata": {},
   "outputs": [],
   "source": []
  },
  {
   "cell_type": "markdown",
   "id": "52799839",
   "metadata": {},
   "source": [
    "❓Why is it interesting to analyse cohorts ? "
   ]
  },
  {
   "cell_type": "code",
   "execution_count": null,
   "id": "28f6d4cd",
   "metadata": {},
   "outputs": [],
   "source": []
  },
  {
   "cell_type": "markdown",
   "id": "6b920111",
   "metadata": {
    "ExecuteTime": {
     "end_time": "2021-10-02T12:45:56.885240Z",
     "start_time": "2021-10-02T12:45:56.851306Z"
    }
   },
   "source": [
    "❓What data (already existing in the original dataset) do we need to build a cohort? "
   ]
  },
  {
   "cell_type": "code",
   "execution_count": null,
   "id": "6f65f773",
   "metadata": {},
   "outputs": [],
   "source": []
  },
  {
   "cell_type": "markdown",
   "id": "cc8dda95",
   "metadata": {
    "ExecuteTime": {
     "end_time": "2021-10-02T12:49:04.915097Z",
     "start_time": "2021-10-02T12:49:04.910544Z"
    }
   },
   "source": [
    "Build a new df with just these 3 features"
   ]
  },
  {
   "cell_type": "code",
   "execution_count": null,
   "id": "0cca0c76",
   "metadata": {},
   "outputs": [],
   "source": []
  },
  {
   "cell_type": "markdown",
   "id": "51ebf23b",
   "metadata": {},
   "source": [
    "Using the `pandas.Serie.dt.to_period()` methode, create a new feature converting `order_purchase_timestamp` in months"
   ]
  },
  {
   "cell_type": "code",
   "execution_count": null,
   "id": "bdcf3e15",
   "metadata": {},
   "outputs": [],
   "source": []
  },
  {
   "cell_type": "markdown",
   "id": "453dcc64",
   "metadata": {},
   "source": [
    "Create a new feature called `cohort` by grouping the previous df by `customer_unique_id`, and tranforming it's minimum value in months (with the same `pandas.Serie.dt.to_period()` as before)"
   ]
  },
  {
   "cell_type": "code",
   "execution_count": null,
   "id": "3a6a8791",
   "metadata": {
    "ExecuteTime": {
     "end_time": "2021-10-03T11:52:19.937302Z",
     "start_time": "2021-10-03T11:52:19.447211Z"
    }
   },
   "outputs": [],
   "source": [
    "# For the teachers, To filter by only the customer that have done 2 or more purchases\n",
    "df_more =pd.DataFrame(df_c.groupby('customer_unique_id').size()[df_c.groupby('customer_unique_id').size() > 1])\n",
    "df_c = df_c.merge(df_more, how='left', on='customer_unique_id').rename(columns={0:'na'},inplace=True)\n",
    "\n",
    "df_c = df_c[df_c['na'].notna()]"
   ]
  },
  {
   "cell_type": "code",
   "execution_count": null,
   "id": "264aa77d",
   "metadata": {
    "ExecuteTime": {
     "end_time": "2021-10-03T12:08:07.300810Z",
     "start_time": "2021-10-03T12:08:07.081691Z"
    }
   },
   "outputs": [],
   "source": [
    "df_c['cohort'] = df_c.groupby('customer_unique_id')['order_purchase_timestamp'] \\\n",
    "                 .transform('min') \\\n",
    "                 .dt.to_period('M') \n",
    "df_c"
   ]
  },
  {
   "cell_type": "markdown",
   "id": "f4922f0d",
   "metadata": {},
   "source": [
    "Now groupby `['cohort', 'order_month']` and aggregate by `nunique()` `customer_unique_id`"
   ]
  },
  {
   "cell_type": "code",
   "execution_count": null,
   "id": "1825900f",
   "metadata": {},
   "outputs": [],
   "source": []
  },
  {
   "cell_type": "markdown",
   "id": "76bcaf82",
   "metadata": {},
   "source": [
    "Finally, create a feature called `['period_number']` where you substract the `cohort` to the `order_month` and get the `'n'` attribute thanks to the `operator.attrgetter` method"
   ]
  },
  {
   "cell_type": "code",
   "execution_count": null,
   "id": "6904f60a",
   "metadata": {},
   "outputs": [],
   "source": []
  },
  {
   "cell_type": "markdown",
   "id": "cd9c4c0a",
   "metadata": {
    "ExecuteTime": {
     "end_time": "2021-10-03T13:45:27.180256Z",
     "start_time": "2021-10-03T13:45:27.158955Z"
    }
   },
   "source": [
    "Explore a cohort (for example 2017-01) and try to understand what it shows"
   ]
  },
  {
   "cell_type": "code",
   "execution_count": null,
   "id": "0637ec31",
   "metadata": {},
   "outputs": [],
   "source": []
  },
  {
   "cell_type": "markdown",
   "id": "fec1e6e7",
   "metadata": {},
   "source": [
    "Pivot the DataFrame using the methode : `DataFrame.pivot_table` (hint : use `'cohort'` as `index`, `'period_number'` as columns, and `'n_customers'` as `values`)"
   ]
  },
  {
   "cell_type": "code",
   "execution_count": null,
   "id": "d273c874",
   "metadata": {},
   "outputs": [],
   "source": []
  },
  {
   "cell_type": "markdown",
   "id": "fdf4935b",
   "metadata": {},
   "source": [
    "Now divide all the values (except you column 0) by the column 0 and name this new DataFrame `retention_matrix`"
   ]
  },
  {
   "cell_type": "code",
   "execution_count": null,
   "id": "940f0007",
   "metadata": {},
   "outputs": [],
   "source": []
  },
  {
   "cell_type": "markdown",
   "id": "cb7a4322",
   "metadata": {},
   "source": [
    "Plot your `retention matrix` using the code below : "
   ]
  },
  {
   "cell_type": "code",
   "execution_count": null,
   "id": "d8607a36",
   "metadata": {
    "ExecuteTime": {
     "end_time": "2021-10-03T11:53:03.187978Z",
     "start_time": "2021-10-03T11:53:00.110548Z"
    },
    "scrolled": true
   },
   "outputs": [],
   "source": [
    "\n",
    "with sns.axes_style(\"white\"):\n",
    "    fig, ax = plt.subplots(1, 2, figsize=(12, 8), sharey=True, gridspec_kw={'width_ratios': [1, 11]})\n",
    "    \n",
    "    # retention matrix\n",
    "    sns.heatmap(retention_matrix, \n",
    "                mask=retention_matrix.isnull(), \n",
    "                annot=True, \n",
    "                fmt='.0%', \n",
    "                cmap='RdYlGn', \n",
    "                ax=ax[1])\n",
    "    ax[1].set_title('Monthly Cohorts: User Retention', fontsize=16)\n",
    "    ax[1].set(xlabel='# of periods',\n",
    "              ylabel='')\n",
    "\n",
    "    # cohort size\n",
    "    cohort_size_df = pd.DataFrame(cohort_size).rename(columns={0: 'cohort_size'})\n",
    "    white_cmap = mcolors.ListedColormap(['white'])\n",
    "    sns.heatmap(cohort_size_df, \n",
    "                annot=True, \n",
    "                cbar=False, \n",
    "                fmt='g', \n",
    "                cmap=white_cmap, \n",
    "                ax=ax[0])\n",
    "\n",
    "    fig.tight_layout()\n"
   ]
  },
  {
   "cell_type": "markdown",
   "id": "f84e2c4d",
   "metadata": {},
   "source": [
    "What do you notice? "
   ]
  },
  {
   "cell_type": "code",
   "execution_count": null,
   "id": "ef83de5b",
   "metadata": {},
   "outputs": [],
   "source": []
  },
  {
   "cell_type": "markdown",
   "id": "f3bc8b49",
   "metadata": {},
   "source": [
    "How could we have know that before? (hint : Calculate the percentage of customers who have ordered more than once)"
   ]
  },
  {
   "cell_type": "code",
   "execution_count": null,
   "id": "2b0bd39f",
   "metadata": {},
   "outputs": [],
   "source": []
  },
  {
   "cell_type": "markdown",
   "id": "a3111dcd",
   "metadata": {},
   "source": [
    "Here is the code for the analysis of customers who have bought more than once : "
   ]
  },
  {
   "cell_type": "code",
   "execution_count": null,
   "id": "df3d4035",
   "metadata": {
    "ExecuteTime": {
     "end_time": "2021-10-03T14:08:57.428123Z",
     "start_time": "2021-10-03T14:08:54.180728Z"
    }
   },
   "outputs": [],
   "source": [
    "#start from your df created doing the RFM segmentation\n",
    "df_c = df[['customer_unique_id', 'order_id',\n",
    "           'order_purchase_timestamp']].drop_duplicates()\n",
    "\n",
    "df_c['order_month'] = df_c['order_purchase_timestamp'].dt.to_period('M')\n",
    "\n",
    "df_more = pd.DataFrame(df_c.groupby('customer_unique_id').size()[\n",
    "                       df_c.groupby('customer_unique_id').size() > 1])\n",
    "\n",
    "df_c = df_c.merge(df_more, how='left', on='customer_unique_id').rename(\n",
    "    columns={0: 'na'})\n",
    "\n",
    "df_c = df_c[df_c['na'].notna()]\n",
    "df_c['cohort'] = df_c.groupby('customer_unique_id')['order_purchase_timestamp'] \\\n",
    "    .transform('min') \\\n",
    "    .dt.to_period('M')\n",
    "\n",
    "df_cohort = df_c.groupby(['cohort', 'order_month']) \\\n",
    "    .agg(n_customers=('customer_unique_id', 'nunique')) \\\n",
    "    .reset_index(drop=False)\n",
    "df_cohort['period_number'] = (\n",
    "    df_cohort.order_month - df_cohort.cohort).apply(attrgetter('n'))\n",
    "cohort_pivot = df_cohort.pivot_table(index='cohort',\n",
    "                                     columns='period_number',\n",
    "                                     values='n_customers')\n",
    "cohort_size = cohort_pivot.iloc[:, 0]\n",
    "retention_matrix = cohort_pivot.divide(cohort_size, axis=0)\n",
    "\n",
    "with sns.axes_style(\"white\"):\n",
    "    fig, ax = plt.subplots(1, 2, figsize=(12, 8), sharey=True, gridspec_kw={\n",
    "                           'width_ratios': [1, 11]})\n",
    "\n",
    "    # retention matrix\n",
    "    sns.heatmap(retention_matrix,\n",
    "                mask=retention_matrix.isnull(),\n",
    "                annot=True,\n",
    "                fmt='.0%',\n",
    "                cmap='RdYlGn',\n",
    "                ax=ax[1])\n",
    "    ax[1].set_title('Monthly Cohorts: User Retention', fontsize=16)\n",
    "    ax[1].set(xlabel='# of periods',\n",
    "              ylabel='')\n",
    "\n",
    "    # cohort size\n",
    "    cohort_size_df = pd.DataFrame(cohort_size).rename(\n",
    "        columns={0: 'cohort_size'})\n",
    "    white_cmap = mcolors.ListedColormap(['white'])\n",
    "    sns.heatmap(cohort_size_df,\n",
    "                annot=True,\n",
    "                cbar=False,\n",
    "                fmt='g',\n",
    "                cmap=white_cmap,\n",
    "                ax=ax[0])\n",
    "\n",
    "    fig.tight_layout()"
   ]
  },
  {
   "cell_type": "code",
   "execution_count": null,
   "id": "daae3e6e",
   "metadata": {},
   "outputs": [],
   "source": []
  }
 ],
 "metadata": {
  "hide_input": false,
  "kernelspec": {
   "display_name": "Python 3",
   "language": "python",
   "name": "python3"
  },
  "language_info": {
   "codemirror_mode": {
    "name": "ipython",
    "version": 3
   },
   "file_extension": ".py",
   "mimetype": "text/x-python",
   "name": "python",
   "nbconvert_exporter": "python",
   "pygments_lexer": "ipython3",
   "version": "3.8.8"
  },
  "toc": {
   "base_numbering": 1,
   "nav_menu": {},
   "number_sections": true,
   "sideBar": true,
   "skip_h1_title": false,
   "title_cell": "Table of Contents",
   "title_sidebar": "Contents",
   "toc_cell": false,
   "toc_position": {},
   "toc_section_display": true,
   "toc_window_display": false
  },
  "varInspector": {
   "cols": {
    "lenName": 16,
    "lenType": 16,
    "lenVar": 40
   },
   "kernels_config": {
    "python": {
     "delete_cmd_postfix": "",
     "delete_cmd_prefix": "del ",
     "library": "var_list.py",
     "varRefreshCmd": "print(var_dic_list())"
    },
    "r": {
     "delete_cmd_postfix": ") ",
     "delete_cmd_prefix": "rm(",
     "library": "var_list.r",
     "varRefreshCmd": "cat(var_dic_list()) "
    }
   },
   "types_to_exclude": [
    "module",
    "function",
    "builtin_function_or_method",
    "instance",
    "_Feature"
   ],
   "window_display": false
  }
 },
 "nbformat": 4,
 "nbformat_minor": 5
}
